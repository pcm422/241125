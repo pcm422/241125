{
 "cells": [
  {
   "cell_type": "markdown",
   "metadata": {},
   "source": [
    "0부터 시작하여 n까지의 숫자 중에서 홀수만 생성하는 제너레이터 odd_numbers를 작성하세요."
   ]
  },
  {
   "cell_type": "code",
   "execution_count": 5,
   "metadata": {},
   "outputs": [
    {
     "name": "stdout",
     "output_type": "stream",
     "text": [
      "[1, 3, 5, 7, 9]\n"
     ]
    }
   ],
   "source": [
    "def odd_numbers(n):\n",
    "    for num in range(n + 1):\n",
    "        if num % 2 != 0:\n",
    "            yield num\n",
    "            \n",
    "odd_gen = odd_numbers(10)\n",
    "print(list(odd_gen))\n",
    "\n",
    "# next() : 제너레이터의 값을 하나씩 순차적으로 꺼냄. yield 지점에서 실행을 재개함\n",
    "# list() : 제너레이터의 모든 값을 한번에 리스트로 변환"
   ]
  }
 ],
 "metadata": {
  "kernelspec": {
   "display_name": "Python 3",
   "language": "python",
   "name": "python3"
  },
  "language_info": {
   "codemirror_mode": {
    "name": "ipython",
    "version": 3
   },
   "file_extension": ".py",
   "mimetype": "text/x-python",
   "name": "python",
   "nbconvert_exporter": "python",
   "pygments_lexer": "ipython3",
   "version": "3.11.9"
  }
 },
 "nbformat": 4,
 "nbformat_minor": 2
}
