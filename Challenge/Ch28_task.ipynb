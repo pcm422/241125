{
 "cells": [
  {
   "cell_type": "markdown",
   "metadata": {},
   "source": [
    "사용자로부터 3개의 숫자를 입력받아, 이를 튜플로 만든 후 최소값과 최대값을 출력하는 함수 min_max를 작성하세요."
   ]
  },
  {
   "cell_type": "code",
   "execution_count": 8,
   "metadata": {},
   "outputs": [
    {
     "name": "stdout",
     "output_type": "stream",
     "text": [
      "입력한 숫자 : (7, 2, 9)\n",
      "최소값 : 2\n",
      "최대값 : 9\n"
     ]
    }
   ],
   "source": [
    "def min_max(num1, num2, num3):\n",
    "    nums = (num1, num2, num3)\n",
    "\n",
    "    nums_min = min(nums)\n",
    "    nums_max = max(nums)\n",
    "    \n",
    "    print(f\"입력한 숫자 : {nums}\")\n",
    "    print(f\"최소값 : {nums_min}\")\n",
    "    print(f\"최대값 : {nums_max}\")\n",
    "\n",
    "min_max(7, 2, 9)"
   ]
  }
 ],
 "metadata": {
  "kernelspec": {
   "display_name": "Python 3",
   "language": "python",
   "name": "python3"
  },
  "language_info": {
   "codemirror_mode": {
    "name": "ipython",
    "version": 3
   },
   "file_extension": ".py",
   "mimetype": "text/x-python",
   "name": "python",
   "nbconvert_exporter": "python",
   "pygments_lexer": "ipython3",
   "version": "3.11.9"
  }
 },
 "nbformat": 4,
 "nbformat_minor": 2
}
