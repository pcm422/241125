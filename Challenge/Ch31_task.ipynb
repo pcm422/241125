{
 "cells": [
  {
   "cell_type": "markdown",
   "metadata": {},
   "source": [
    "문자열 리스트를 받아, 각 문자열의 길이를 출력하는 함수 print_lengths를 작성하세요."
   ]
  },
  {
   "cell_type": "code",
   "execution_count": 3,
   "metadata": {},
   "outputs": [
    {
     "name": "stdout",
     "output_type": "stream",
     "text": [
      "'print'의 길이: 5\n",
      "'lengths'의 길이: 7\n",
      "'print_lengths'의 길이: 13\n"
     ]
    }
   ],
   "source": [
    "def print_lengths(strs):\n",
    "    for s in strs:\n",
    "        print(f\"'{s}'의 길이: {len(s)}\")\n",
    "\n",
    "str_list = [\"print\", \"lengths\", \"print_lengths\"]\n",
    "print_lengths(str_list)"
   ]
  }
 ],
 "metadata": {
  "kernelspec": {
   "display_name": "Python 3",
   "language": "python",
   "name": "python3"
  },
  "language_info": {
   "codemirror_mode": {
    "name": "ipython",
    "version": 3
   },
   "file_extension": ".py",
   "mimetype": "text/x-python",
   "name": "python",
   "nbconvert_exporter": "python",
   "pygments_lexer": "ipython3",
   "version": "3.11.9"
  }
 },
 "nbformat": 4,
 "nbformat_minor": 2
}
