{
 "cells": [
  {
   "cell_type": "markdown",
   "metadata": {},
   "source": [
    "두 문자열을 받아서 긴 문자열을 반환하는 함수 longer_string을 작성하세요. 만약 두 문자열의 길이가 같다면, 첫 번째 문자열을 반환하세요."
   ]
  },
  {
   "cell_type": "code",
   "execution_count": 1,
   "metadata": {},
   "outputs": [
    {
     "name": "stdout",
     "output_type": "stream",
     "text": [
      "computer\n",
      "phones\n",
      "coke\n"
     ]
    }
   ],
   "source": [
    "def longer_string(str1, str2):\n",
    "    if len(str1) >= len(str2):\n",
    "        return str1\n",
    "    else:\n",
    "        return str2\n",
    "\n",
    "result1 = longer_string(\"computer\", \"game\")\n",
    "result2 = longer_string(\"smart\", \"phones\")\n",
    "result3 = longer_string(\"coke\", \"cola\")\n",
    "print(result1)\n",
    "print(result2)\n",
    "print(result3)\n"
   ]
  }
 ],
 "metadata": {
  "kernelspec": {
   "display_name": "Python 3",
   "language": "python",
   "name": "python3"
  },
  "language_info": {
   "codemirror_mode": {
    "name": "ipython",
    "version": 3
   },
   "file_extension": ".py",
   "mimetype": "text/x-python",
   "name": "python",
   "nbconvert_exporter": "python",
   "pygments_lexer": "ipython3",
   "version": "3.11.9"
  }
 },
 "nbformat": 4,
 "nbformat_minor": 2
}
