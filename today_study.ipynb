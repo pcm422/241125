{
 "cells": [
  {
   "cell_type": "markdown",
   "metadata": {},
   "source": [
    "#### 1. 함수란?\n",
    "\n",
    "함수 = **목적이 있는 코드의 집합**"
   ]
  },
  {
   "cell_type": "markdown",
   "metadata": {},
   "source": [
    "#### 2. 함수의 구조"
   ]
  },
  {
   "cell_type": "code",
   "execution_count": 1,
   "metadata": {},
   "outputs": [],
   "source": [
    "def 함수이름():\n",
    "\t\t코드"
   ]
  },
  {
   "cell_type": "markdown",
   "metadata": {},
   "source": [
    "#### 3. 함수의 매개변수\n",
    "\n",
    "print 함수는 **실행할 때 입력값을 넣어서 실행**시킬 수 있습니다."
   ]
  },
  {
   "cell_type": "code",
   "execution_count": 2,
   "metadata": {},
   "outputs": [
    {
     "name": "stdout",
     "output_type": "stream",
     "text": [
      "괄호 사이에 입력값을 넣을 수 있습니다.\n"
     ]
    }
   ],
   "source": [
    "print(\"괄호 사이에 입력값을 넣을 수 있습니다.\")"
   ]
  },
  {
   "cell_type": "markdown",
   "metadata": {},
   "source": [
    "앞서 설명한 함수의 기본 구조에서 값을 받을 수 있는 형태로 변형이 가능합니다."
   ]
  },
  {
   "cell_type": "code",
   "execution_count": 5,
   "metadata": {},
   "outputs": [],
   "source": [
    "#함수의 구조\n",
    "def 함수이름(매개변수, 매개변수2):\n",
    "\t    pass"
   ]
  },
  {
   "cell_type": "markdown",
   "metadata": {},
   "source": [
    "**함수의 괄호안에 들어오는 값을 매개변수(parameter)** 라고 합니다.\n",
    "\n",
    "이렇게 입력되는 매개변수들을 구분을 위해서 식별자를 만들어줍니다."
   ]
  },
  {
   "cell_type": "markdown",
   "metadata": {},
   "source": [
    "#### 4. 식별자"
   ]
  },
  {
   "cell_type": "code",
   "execution_count": 6,
   "metadata": {},
   "outputs": [
    {
     "name": "stdout",
     "output_type": "stream",
     "text": [
      "oz코딩스쿨\n",
      "oz코딩스쿨\n",
      "oz코딩스쿨\n",
      "oz코딩스쿨\n",
      "oz코딩스쿨\n"
     ]
    }
   ],
   "source": [
    "def oz(message, n):\n",
    "    # message는 함수 oz의 첫 번째 매개변수입니다. 이 매개변수는 출력할 메시지를 나타냅니다.\n",
    "    # n은 함수 oz의 두 번째 매개변수입니다. 이 매개변수는 메시지를 반복 출력할 횟수를 나타냅니다.\n",
    "    for i in range(n):\n",
    "        # message 매개변수는 출력할 메시지를 식별합니다.\n",
    "        # n 매개변수는 반복 횟수를 식별합니다.\n",
    "        print(message)\n",
    "\n",
    "# 'oz코딩스쿨' 메시지를 5번 출력합니다.\n",
    "oz('oz코딩스쿨', 5)"
   ]
  },
  {
   "cell_type": "markdown",
   "metadata": {},
   "source": [
    "위 코드는 **oz()함수에 2개의 매개변수**를 받을 수 있게 수정했습니다.\n",
    "\n",
    "2개의 **매개변수에 각각 message와 n이라는 식별자**를 만들어주었습니다.\n",
    "\n",
    "oz()함수 호출시 입력하는 2개의 값 중 첫번째는 출력에 사용되는 값이고, 두번째는 for문의 반복에 사용됩니다.\n",
    "\n",
    "구조의 큰 변화는 없지만, **이전 oz()함수와는 작동하는 방식에 차이**를 보입니다."
   ]
  },
  {
   "cell_type": "markdown",
   "metadata": {},
   "source": [
    "#### 5. 매개변수를 사용할 때의 주의점"
   ]
  },
  {
   "cell_type": "code",
   "execution_count": 7,
   "metadata": {},
   "outputs": [
    {
     "name": "stdout",
     "output_type": "stream",
     "text": [
      "oz코딩스쿨\n",
      "oz코딩스쿨\n",
      "oz코딩스쿨\n",
      "oz코딩스쿨\n",
      "oz코딩스쿨\n"
     ]
    }
   ],
   "source": [
    "def oz(message, n):\n",
    "\t\tfor i in range(n):\n",
    "\t\t\t\tprint(message)\n",
    "\t\t\t\t\n",
    "oz('oz코딩스쿨', 5)"
   ]
  },
  {
   "cell_type": "markdown",
   "metadata": {},
   "source": [
    "매개변수를 사용할 때 주의할 점은 **매개변수의 개수를 정확하게 입력**해야한다는 점입니다.\n",
    "\n",
    "현재 oz 함수는 2개의 매개변수를 받을 수 있도록 정의했습니다.\n",
    "\n",
    "하지만 **함수의 정의된 매개변수의 개수와 다른 개수의 매개변수를 전달받게 될 경우, 실행 시 오류가 발생**합니다."
   ]
  },
  {
   "cell_type": "markdown",
   "metadata": {},
   "source": [
    "#### 이해도 체크리스트"
   ]
  },
  {
   "cell_type": "markdown",
   "metadata": {},
   "source": [
    "1. 함수의 기본 구조  \n",
    "def 함수이름():  \n",
    "&emsp;코드"
   ]
  },
  {
   "cell_type": "markdown",
   "metadata": {},
   "source": [
    "2. 함수 호출이란?  \n",
    "함수를 실행하는것  \n",
    "함수이름(매개변수) 로 실행함"
   ]
  },
  {
   "cell_type": "markdown",
   "metadata": {},
   "source": [
    "3. 매개변수란  \n",
    "함수가 호출될때 값을 받기 위해 사용되는 변수"
   ]
  },
  {
   "cell_type": "markdown",
   "metadata": {},
   "source": [
    "4. 식별자란  \n",
    "변수 함수 등의 이름을 나타내며 고유하게 식별하기 위해 사용"
   ]
  },
  {
   "cell_type": "markdown",
   "metadata": {},
   "source": [
    "5. 식별자는 함수 안에서 어떻게 사용되나?  \n",
    "매개변수의 이름로 사용되어 값을 처리하고 리턴하는데 사용함"
   ]
  },
  {
   "cell_type": "markdown",
   "metadata": {},
   "source": [
    "#### 1. 매개변수가 일치하지 않을 때 발생하는 오류"
   ]
  },
  {
   "cell_type": "code",
   "execution_count": 9,
   "metadata": {},
   "outputs": [
    {
     "ename": "TypeError",
     "evalue": "oz() missing 1 required positional argument: 'n'",
     "output_type": "error",
     "traceback": [
      "\u001b[1;31m---------------------------------------------------------------------------\u001b[0m",
      "\u001b[1;31mTypeError\u001b[0m                                 Traceback (most recent call last)",
      "Cell \u001b[1;32mIn[9], line 10\u001b[0m\n\u001b[0;32m      6\u001b[0m         \u001b[38;5;28mprint\u001b[39m(message)\n\u001b[0;32m      8\u001b[0m \u001b[38;5;66;03m# 그러나 함수 호출 시 매개변수 'n'이 누락되었습니다.\u001b[39;00m\n\u001b[0;32m      9\u001b[0m \u001b[38;5;66;03m# 따라서 함수 호출은 실패하고 TypeError가 발생했습니다.\t\t\t\t\u001b[39;00m\n\u001b[1;32m---> 10\u001b[0m \u001b[43moz\u001b[49m\u001b[43m(\u001b[49m\u001b[38;5;124;43m'\u001b[39;49m\u001b[38;5;124;43moz코딩스쿨\u001b[39;49m\u001b[38;5;124;43m'\u001b[39;49m\u001b[43m)\u001b[49m\t\t\t\t\n\u001b[0;32m     12\u001b[0m \u001b[38;5;66;03m#출력\u001b[39;00m\n\u001b[0;32m     13\u001b[0m \u001b[38;5;66;03m# 오류 메시지에 따르면, 'n' 매개변수가 필수로 필요하며, 해당 인자가 누락되었다는 것을 알 수 있습니다.\u001b[39;00m\n\u001b[0;32m     14\u001b[0m \u001b[38;5;66;03m# TypeError: oz() missing 1 required positional argument: 'n'\u001b[39;00m\n\u001b[0;32m     15\u001b[0m \n\u001b[0;32m     16\u001b[0m \u001b[38;5;66;03m# 함수 호출을 정확하게 하기 위해서는 두 개의 매개변수 모두를 제공해야 합니다.\u001b[39;00m\n",
      "\u001b[1;31mTypeError\u001b[0m: oz() missing 1 required positional argument: 'n'"
     ]
    }
   ],
   "source": [
    "#매개변수를 적게 입력한 경우\n",
    "\n",
    "# oz 함수는 두 개의 매개변수를 필요로 합니다: message와 n입니다.\n",
    "def oz(message, n):\n",
    "    for i in range(n):\n",
    "        print(message)\n",
    "\n",
    "# 그러나 함수 호출 시 매개변수 'n'이 누락되었습니다.\n",
    "# 따라서 함수 호출은 실패하고 TypeError가 발생했습니다.\t\t\t\t\n",
    "oz('oz코딩스쿨')\t\t\t\t\n",
    "\n",
    "#출력\n",
    "# 오류 메시지에 따르면, 'n' 매개변수가 필수로 필요하며, 해당 인자가 누락되었다는 것을 알 수 있습니다.\n",
    "# TypeError: oz() missing 1 required positional argument: 'n'\n",
    "\n",
    "# 함수 호출을 정확하게 하기 위해서는 두 개의 매개변수 모두를 제공해야 합니다."
   ]
  },
  {
   "cell_type": "code",
   "execution_count": 11,
   "metadata": {},
   "outputs": [
    {
     "ename": "TypeError",
     "evalue": "oz() takes 2 positional arguments but 3 were given",
     "output_type": "error",
     "traceback": [
      "\u001b[1;31m---------------------------------------------------------------------------\u001b[0m",
      "\u001b[1;31mTypeError\u001b[0m                                 Traceback (most recent call last)",
      "Cell \u001b[1;32mIn[11], line 10\u001b[0m\n\u001b[0;32m      6\u001b[0m \t\t\t\t\u001b[38;5;28mprint\u001b[39m(message)\n\u001b[0;32m      8\u001b[0m \u001b[38;5;66;03m# 그러나 함수 호출 시 매개변수로 'oz코딩스쿨', 5, 3 세 개의 값을 입력했습니다.\u001b[39;00m\n\u001b[0;32m      9\u001b[0m \u001b[38;5;66;03m# 따라서 함수 호출은 실패하고 TypeError가 발생했습니다.\t\t\t\u001b[39;00m\n\u001b[1;32m---> 10\u001b[0m \u001b[43moz\u001b[49m\u001b[43m(\u001b[49m\u001b[38;5;124;43m'\u001b[39;49m\u001b[38;5;124;43moz코딩스쿨\u001b[39;49m\u001b[38;5;124;43m'\u001b[39;49m\u001b[43m,\u001b[49m\u001b[43m \u001b[49m\u001b[38;5;241;43m5\u001b[39;49m\u001b[43m,\u001b[49m\u001b[43m \u001b[49m\u001b[38;5;241;43m3\u001b[39;49m\u001b[43m)\u001b[49m\t\t\t\t\n\u001b[0;32m     12\u001b[0m \u001b[38;5;66;03m#출력\u001b[39;00m\n\u001b[0;32m     13\u001b[0m \u001b[38;5;66;03m# 오류 메시지에 따르면, oz 함수가 2개의 위치 인자를 받을 수 있는데, 3개의 인자가 전달되었다고 합니다.\u001b[39;00m\n\u001b[0;32m     14\u001b[0m \u001b[38;5;66;03m# TypeError: oz() takes 2 positional arguments but 3 were given\u001b[39;00m\n\u001b[0;32m     15\u001b[0m \n\u001b[0;32m     16\u001b[0m \u001b[38;5;66;03m# 함수 호출을 정확하게 하기 위해서는 두 개의 매개변수 모두를 제공해야 합니다.\u001b[39;00m\n",
      "\u001b[1;31mTypeError\u001b[0m: oz() takes 2 positional arguments but 3 were given"
     ]
    }
   ],
   "source": [
    "#매개변수를 많이 입력한 경우\n",
    "\n",
    "# oz 함수는 두 개의 매개변수를 필요로 합니다: message와 n입니다.\n",
    "def oz(message, n):\n",
    "\t\tfor i in range(n):\n",
    "\t\t\t\tprint(message)\n",
    "\n",
    "# 그러나 함수 호출 시 매개변수로 'oz코딩스쿨', 5, 3 세 개의 값을 입력했습니다.\n",
    "# 따라서 함수 호출은 실패하고 TypeError가 발생했습니다.\t\t\t\n",
    "oz('oz코딩스쿨', 5, 3)\t\t\t\t\n",
    "\n",
    "#출력\n",
    "# 오류 메시지에 따르면, oz 함수가 2개의 위치 인자를 받을 수 있는데, 3개의 인자가 전달되었다고 합니다.\n",
    "# TypeError: oz() takes 2 positional arguments but 3 were given\n",
    "\n",
    "# 함수 호출을 정확하게 하기 위해서는 두 개의 매개변수 모두를 제공해야 합니다."
   ]
  },
  {
   "cell_type": "markdown",
   "metadata": {},
   "source": [
    "#### 2. 가변 매개변수란?\n",
    "\n",
    "가변 매개변수는 **함수가 임의의 개수의 인자를 받을 수 있도록 하는 매개변수**입니다.\n",
    "\n",
    "함수 정의 시 **매개변수의 개수를 고정하지 않고, 호출할 때마다 다양한 개수의 인자를 전달**할 수 있도록 합니다.\n",
    "\n",
    "print 함수에 매개변수를 많이 전달하기 위해서는 `,` 를 통해 값을 추가적으로 전달해준다."
   ]
  },
  {
   "cell_type": "code",
   "execution_count": 12,
   "metadata": {},
   "outputs": [
    {
     "name": "stdout",
     "output_type": "stream",
     "text": [
      "이렇게 많이 넣을 수 있는 방법은? 2 3 이렇게 마구잡이로\n"
     ]
    }
   ],
   "source": [
    "print('이렇게 많이 넣을 수 있는 방법은?', 2, 3, '이렇게 마구잡이로')\n",
    "\n",
    "#출력\n",
    "#이렇게 많이 넣을 수 있는 방법은 2 3 이렇게 마구잡이로"
   ]
  },
  {
   "cell_type": "markdown",
   "metadata": {},
   "source": [
    "`*` 를 식별자 앞에 붙이면 가변 매개변수가 된다. \n",
    "\n",
    "**가변 매개변수가 된다면, 매개변수를 무한정**으로 담을 수 있다."
   ]
  },
  {
   "cell_type": "code",
   "execution_count": 13,
   "metadata": {},
   "outputs": [
    {
     "name": "stdout",
     "output_type": "stream",
     "text": [
      "이렇게\n",
      "저렇게\n",
      "가변 매개변수는 요렇게\n",
      "신기하죠\n",
      "\n",
      "이렇게\n",
      "저렇게\n",
      "가변 매개변수는 요렇게\n",
      "신기하죠\n",
      "\n",
      "이렇게\n",
      "저렇게\n",
      "가변 매개변수는 요렇게\n",
      "신기하죠\n",
      "\n"
     ]
    }
   ],
   "source": [
    "def oz(n, *values):\n",
    "    # n번 반복합니다.\n",
    "    for i in range(n):\n",
    "        # 가변 매개변수 values에 전달된 값들을 하나씩 순회하면서 출력합니다.\n",
    "        for value in values:\n",
    "            print(value)\n",
    "        # 각 반복마다 빈 줄을 출력하여 값들을 구분합니다.\n",
    "        print()\n",
    "\n",
    "# 함수를 호출하고, 첫 번째 매개변수로 3을 전달하고, 가변 매개변수에 여러 개의 값을 전달합니다.\n",
    "oz(3, \"이렇게\", \"저렇게\", \"가변 매개변수는 요렇게\", \"신기하죠\")"
   ]
  },
  {
   "cell_type": "markdown",
   "metadata": {},
   "source": [
    "#### 4. 가변 매개변수 사용시의 주의점"
   ]
  },
  {
   "cell_type": "markdown",
   "metadata": {},
   "source": [
    "1. 가변 매개변수 **뒤에는 일반 매개변수가 올 수 없습니다.**\n",
    "    \n",
    "    → 어디까지가 가변 매개변수이고, 어디가 일반 매개변수인지 알 수 없기 때문입니다."
   ]
  },
  {
   "cell_type": "code",
   "execution_count": 16,
   "metadata": {},
   "outputs": [
    {
     "ename": "TypeError",
     "evalue": "oz() missing 1 required keyword-only argument: 'n'",
     "output_type": "error",
     "traceback": [
      "\u001b[1;31m---------------------------------------------------------------------------\u001b[0m",
      "\u001b[1;31mTypeError\u001b[0m                                 Traceback (most recent call last)",
      "Cell \u001b[1;32mIn[16], line 15\u001b[0m\n\u001b[0;32m     11\u001b[0m         \u001b[38;5;28mprint\u001b[39m()\n\u001b[0;32m     13\u001b[0m \u001b[38;5;66;03m# 함수 호출 시, n에 대한 키워드 인자가 누락되어 있습니다.\u001b[39;00m\n\u001b[0;32m     14\u001b[0m \u001b[38;5;66;03m# 이는 n이 키워드 전용 매개변수이기 때문에 반드시 키워드 인자로 값을 전달해야 합니다.\u001b[39;00m\n\u001b[1;32m---> 15\u001b[0m \u001b[43moz\u001b[49m\u001b[43m(\u001b[49m\u001b[38;5;241;43m3\u001b[39;49m\u001b[43m,\u001b[49m\u001b[43m \u001b[49m\u001b[38;5;124;43m\"\u001b[39;49m\u001b[38;5;124;43m이렇게\u001b[39;49m\u001b[38;5;124;43m\"\u001b[39;49m\u001b[43m,\u001b[49m\u001b[43m \u001b[49m\u001b[38;5;124;43m\"\u001b[39;49m\u001b[38;5;124;43m저렇게\u001b[39;49m\u001b[38;5;124;43m\"\u001b[39;49m\u001b[43m,\u001b[49m\u001b[43m \u001b[49m\u001b[38;5;124;43m\"\u001b[39;49m\u001b[38;5;124;43m가변 매개변수는 요렇게\u001b[39;49m\u001b[38;5;124;43m\"\u001b[39;49m\u001b[43m,\u001b[49m\u001b[43m \u001b[49m\u001b[38;5;124;43m\"\u001b[39;49m\u001b[38;5;124;43m신기하죠\u001b[39;49m\u001b[38;5;124;43m\"\u001b[39;49m\u001b[43m)\u001b[49m\n",
      "\u001b[1;31mTypeError\u001b[0m: oz() missing 1 required keyword-only argument: 'n'"
     ]
    }
   ],
   "source": [
    "# 가변 매개변수 뒤에 일반 매개변수가 온 경우\n",
    "\n",
    "# 함수 oz는 가변 매개변수 *values와 키워드 전용 매개변수 n을 받습니다.\n",
    "def oz(*values, n):\n",
    "    # n번 반복합니다.\n",
    "    for i in range(n):\n",
    "        # 가변 매개변수 values에 전달된 값들을 하나씩 순회하면서 출력합니다.\n",
    "        for value in values:\n",
    "            print(value)\n",
    "        # 각 반복마다 빈 줄을 출력하여 값들을 구분합니다.\n",
    "        print()\n",
    "\n",
    "# 함수 호출 시, n에 대한 키워드 인자가 누락되어 있습니다.\n",
    "# 이는 n이 키워드 전용 매개변수이기 때문에 반드시 키워드 인자로 값을 전달해야 합니다.\n",
    "oz(3, \"이렇게\", \"저렇게\", \"가변 매개변수는 요렇게\", \"신기하죠\")"
   ]
  },
  {
   "cell_type": "markdown",
   "metadata": {},
   "source": [
    "2. 가변 매개변수는 **하나만 사용**할 수 있습니다."
   ]
  },
  {
   "cell_type": "code",
   "execution_count": 17,
   "metadata": {},
   "outputs": [
    {
     "ename": "SyntaxError",
     "evalue": "* argument may appear only once (2005787307.py, line 7)",
     "output_type": "error",
     "traceback": [
      "\u001b[1;36m  Cell \u001b[1;32mIn[17], line 7\u001b[1;36m\u001b[0m\n\u001b[1;33m    def oz(*values, *n):\u001b[0m\n\u001b[1;37m                    ^\u001b[0m\n\u001b[1;31mSyntaxError\u001b[0m\u001b[1;31m:\u001b[0m * argument may appear only once\n"
     ]
    }
   ],
   "source": [
    "# 가변 매개변수를 여러개 사용한 경우\n",
    "\n",
    "# 함수 oz의 매개변수에 *values이라는 가변 매개변수가 정의되어 있습니다.\n",
    "# 여기서 문제는 *values이라는 가변 매개변수가 이미 정의되어 있는데,\n",
    "# 함수 호출 시에 *n 또한 가변 매개변수로 정의되어 있다는 것입니다.\n",
    "# 하나의 함수에서 가변 매개변수는 하나만 사용할 수 있습니다.\n",
    "def oz(*values, *n):\n",
    "    for i in range(n):\n",
    "        for value in values:\n",
    "            print(value)\n",
    "        print()\n",
    "\n",
    "oz(3, \"이렇게\", \"저렇게\", \"가변 매개변수는 요렇게\", \"신기하죠\")\n",
    "\n",
    "#출력\n",
    "# 이 코드에서는 두 개의 가변 매개변수가 동시에 정의되어 있기 때문에\n",
    "# 구문 오류(SyntaxError)가 발생합니다."
   ]
  },
  {
   "cell_type": "markdown",
   "metadata": {},
   "source": [
    "이해도 체크리스트"
   ]
  },
  {
   "cell_type": "markdown",
   "metadata": {},
   "source": [
    "1. 가변 매개변수를 사용하는 이유에 대해 설명해보세요.  \n",
    "매개변수를 몇개가 필요할지 모를경우 사용"
   ]
  },
  {
   "cell_type": "markdown",
   "metadata": {},
   "source": [
    "2. 가변 매개 변수를 사용하기 위한 문법은 어떻게 되나요?  \n",
    "매개변수 앞에 *을 넣음"
   ]
  },
  {
   "cell_type": "markdown",
   "metadata": {},
   "source": [
    "3. 가변 매개 변수를 사용하기 위한 제약 조건에 대해 설명해주세요.  \n",
    "가변변수와 일반변수를 함께 매개변수로 쓰는경우 가변변수가 맨 뒤에 와야하고 가변변수는 하나만 존재할수 있음"
   ]
  },
  {
   "cell_type": "markdown",
   "metadata": {},
   "source": [
    "#### 1. 기본 매개변수란?\n",
    "Child 클래스 내부에는 아무것도 없는데, Parent 클래스의 상속을 받았으므로  \n",
    "함수를 호출할 때 해당 매개변수에 **인수를 전달하지 않으면 기본 값이 매개변수에 사용**됩니다.  \n",
    "기본 매개변수를 사용하면 함수 호출시에 모든 매개변수에 값을 전달하지 않아도 됩니다."
   ]
  },
  {
   "cell_type": "markdown",
   "metadata": {},
   "source": [
    "#### 2. 기본 매개변수의 활용"
   ]
  },
  {
   "cell_type": "code",
   "execution_count": 18,
   "metadata": {},
   "outputs": [
    {
     "name": "stdout",
     "output_type": "stream",
     "text": [
      "일반 매개변수 다음에 기본 매개변수를 배치해야 합니다.\n",
      "일반 매개변수 다음에 기본 매개변수를 배치해야 합니다.\n"
     ]
    }
   ],
   "source": [
    "def oz(value, n=2):\n",
    "    # value: 출력할 문자열을 나타내는 일반 매개변수입니다.\n",
    "    # n: 출력할 횟수를 나타내는 기본 매개변수입니다. 만약 명시되지 않으면 기본값으로 2가 사용됩니다.\n",
    "    for i in range(n):\n",
    "        # value를 n번 출력합니다.\n",
    "        print(value)\n",
    "\n",
    "# oz 함수를 호출하고 \"일반 매개변수 다음에 기본 매개변수를 배치해야 합니다.\" 문자열을 전달합니다.\n",
    "# n이 명시되지 않았으므로 기본값으로 2가 사용됩니다.\n",
    "oz(\"일반 매개변수 다음에 기본 매개변수를 배치해야 합니다.\")"
   ]
  },
  {
   "cell_type": "markdown",
   "metadata": {},
   "source": [
    "기본 매개변수의 값을 지정해놨더라도, 함수를 호출할 때 매개변수의 값을 변경할 수 있습니다."
   ]
  },
  {
   "cell_type": "code",
   "execution_count": 19,
   "metadata": {},
   "outputs": [
    {
     "name": "stdout",
     "output_type": "stream",
     "text": [
      "일반 매개변수 다음에 기본 매개변수를 배치해야 합니다.\n",
      "일반 매개변수 다음에 기본 매개변수를 배치해야 합니다.\n",
      "일반 매개변수 다음에 기본 매개변수를 배치해야 합니다.\n",
      "일반 매개변수 다음에 기본 매개변수를 배치해야 합니다.\n",
      "일반 매개변수 다음에 기본 매개변수를 배치해야 합니다.\n",
      "일반 매개변수 다음에 기본 매개변수를 배치해야 합니다.\n",
      "일반 매개변수 다음에 기본 매개변수를 배치해야 합니다.\n",
      "일반 매개변수 다음에 기본 매개변수를 배치해야 합니다.\n",
      "일반 매개변수 다음에 기본 매개변수를 배치해야 합니다.\n",
      "일반 매개변수 다음에 기본 매개변수를 배치해야 합니다.\n"
     ]
    }
   ],
   "source": [
    "def oz(value, n=2):\n",
    "    # value: 출력할 문자열을 나타내는 일반 매개변수입니다.\n",
    "    # n: 출력할 횟수를 나타내는 기본 매개변수입니다. 명시되지 않을 경우 기본값은 2입니다.\n",
    "    for i in range(n):\n",
    "        # value를 n번 출력합니다.\n",
    "        print(value)\n",
    "\n",
    "# oz 함수를 호출하고 \"일반 매개변수 다음에 기본 매개변수를 배치해야 합니다.\" 문자열을 전달합니다.\n",
    "# n 매개변수에 10을 전달하여 해당 문자열을 10번 출력합니다.\n",
    "oz(\"일반 매개변수 다음에 기본 매개변수를 배치해야 합니다.\", n=10)"
   ]
  },
  {
   "cell_type": "markdown",
   "metadata": {},
   "source": [
    "기본 매개변수 뒤에는 일반 매개변수가 올 수 없습니다."
   ]
  },
  {
   "cell_type": "code",
   "execution_count": 20,
   "metadata": {},
   "outputs": [
    {
     "ename": "SyntaxError",
     "evalue": "non-default argument follows default argument (1149259163.py, line 1)",
     "output_type": "error",
     "traceback": [
      "\u001b[1;36m  Cell \u001b[1;32mIn[20], line 1\u001b[1;36m\u001b[0m\n\u001b[1;33m    def oz(n=2, value):\u001b[0m\n\u001b[1;37m                ^\u001b[0m\n\u001b[1;31mSyntaxError\u001b[0m\u001b[1;31m:\u001b[0m non-default argument follows default argument\n"
     ]
    }
   ],
   "source": [
    "def oz(n=2, value):\n",
    "    # 함수 oz 정의 시, 기본 매개변수를 일반 매개변수보다 뒤에 위치시켜야 합니다.\n",
    "    for i in range(n):\n",
    "        print(value)\n",
    "\n",
    "oz(\"일반 매개변수 다음에 기본 매개변수를 배치해야 합니다.\")"
   ]
  },
  {
   "cell_type": "markdown",
   "metadata": {},
   "source": [
    "이해도 체크리스트"
   ]
  },
  {
   "cell_type": "markdown",
   "metadata": {},
   "source": [
    "1. 기본 매개 변수의 역할을 무엇인가요?  \n",
    "매개변수의 기본값을 지정해줌. 기본매개변수는 함수 호출할때 인자를 써주지 않아도 호출가능하게 만듬"
   ]
  },
  {
   "cell_type": "markdown",
   "metadata": {},
   "source": [
    "2. 기본 매개 변수를 사용하기 위한 문법은 어떻게 되나요?  \n",
    "매개변수 뒤에 값을 넣음. 예) 매개변수=5"
   ]
  },
  {
   "cell_type": "markdown",
   "metadata": {},
   "source": [
    "3. 기본 매개 변수의 사용 시 제약 조건에 대해 설명해주세요.  \n",
    "일반 매개변수가 먼저 써지고 그 뒤에 기본 매개변수를 사용해야됨"
   ]
  },
  {
   "cell_type": "markdown",
   "metadata": {},
   "source": [
    "#### 1. 기본 매개변수와 가변 매개변수의 사용"
   ]
  },
  {
   "cell_type": "code",
   "execution_count": 21,
   "metadata": {},
   "outputs": [
    {
     "ename": "TypeError",
     "evalue": "'str' object cannot be interpreted as an integer",
     "output_type": "error",
     "traceback": [
      "\u001b[1;31m---------------------------------------------------------------------------\u001b[0m",
      "\u001b[1;31mTypeError\u001b[0m                                 Traceback (most recent call last)",
      "Cell \u001b[1;32mIn[21], line 19\u001b[0m\n\u001b[0;32m     16\u001b[0m         \u001b[38;5;28mprint\u001b[39m()\n\u001b[0;32m     18\u001b[0m \u001b[38;5;66;03m# 함수 호출\u001b[39;00m\n\u001b[1;32m---> 19\u001b[0m \u001b[43moz\u001b[49m\u001b[43m(\u001b[49m\u001b[38;5;124;43m\"\u001b[39;49m\u001b[38;5;124;43m기본 매개변수 다음에\u001b[39;49m\u001b[38;5;124;43m\"\u001b[39;49m\u001b[43m,\u001b[49m\u001b[43m \u001b[49m\u001b[38;5;124;43m\"\u001b[39;49m\u001b[38;5;124;43m가변 매개변수들\u001b[39;49m\u001b[38;5;124;43m\"\u001b[39;49m\u001b[43m,\u001b[49m\u001b[43m \u001b[49m\u001b[38;5;124;43m\"\u001b[39;49m\u001b[38;5;124;43m넣을 수 있을까요?\u001b[39;49m\u001b[38;5;124;43m\"\u001b[39;49m\u001b[43m)\u001b[49m\n",
      "Cell \u001b[1;32mIn[21], line 11\u001b[0m, in \u001b[0;36moz\u001b[1;34m(n, *values)\u001b[0m\n\u001b[0;32m      4\u001b[0m \u001b[38;5;250m\u001b[39m\u001b[38;5;124;03m\"\"\"\u001b[39;00m\n\u001b[0;32m      5\u001b[0m \u001b[38;5;124;03mParameters:\u001b[39;00m\n\u001b[0;32m      6\u001b[0m \u001b[38;5;124;03m    n (int): 기본 매개변수로, 반복 횟수를 나타냅니다. 기본값은 3입니다.\u001b[39;00m\n\u001b[0;32m      7\u001b[0m \u001b[38;5;124;03m    *values: 가변 매개변수로, 함수에 전달된 모든 위치 인수를 튜플로 묶어서 받습\u001b[39;00m\n\u001b[0;32m      8\u001b[0m \u001b[38;5;124;03m\"\"\"\u001b[39;00m\n\u001b[0;32m     10\u001b[0m \u001b[38;5;66;03m# n번 반복하는 루프\u001b[39;00m\n\u001b[1;32m---> 11\u001b[0m \u001b[38;5;28;01mfor\u001b[39;00m i \u001b[38;5;129;01min\u001b[39;00m \u001b[38;5;28;43mrange\u001b[39;49m\u001b[43m(\u001b[49m\u001b[43mn\u001b[49m\u001b[43m)\u001b[49m:\n\u001b[0;32m     12\u001b[0m     \u001b[38;5;66;03m# 가변 매개변수로 받은 값들을 하나씩 출력합니다.\u001b[39;00m\n\u001b[0;32m     13\u001b[0m     \u001b[38;5;28;01mfor\u001b[39;00m value \u001b[38;5;129;01min\u001b[39;00m values:\n\u001b[0;32m     14\u001b[0m         \u001b[38;5;28mprint\u001b[39m(value)\n",
      "\u001b[1;31mTypeError\u001b[0m: 'str' object cannot be interpreted as an integer"
     ]
    }
   ],
   "source": [
    "# oz 함수는 기본 매개변수와 가변 매개변수를 사용합니다.\n",
    "\n",
    "def oz(n=3, *values):\n",
    "    \"\"\"\n",
    "    Parameters:\n",
    "        n (int): 기본 매개변수로, 반복 횟수를 나타냅니다. 기본값은 3입니다.\n",
    "        *values: 가변 매개변수로, 함수에 전달된 모든 위치 인수를 튜플로 묶어서 받습\n",
    "    \"\"\"\n",
    "    \n",
    "    # n번 반복하는 루프\n",
    "    for i in range(n):\n",
    "        # 가변 매개변수로 받은 값들을 하나씩 출력합니다.\n",
    "        for value in values:\n",
    "            print(value)\n",
    "        # 값들을 모두 출력한 후에는 빈 줄을 출력하여 각 반복 결과를 구분합니다.\n",
    "        print()\n",
    "\n",
    "# 함수 호출\n",
    "oz(\"기본 매개변수 다음에\", \"가변 매개변수들\", \"넣을 수 있을까요?\")"
   ]
  },
  {
   "cell_type": "markdown",
   "metadata": {},
   "source": [
    "함수를 호출했을 때 n에 “기본 매개변수 다음에” 값이 들어가고,  \n",
    "*values에 “가변 매개변수를”, “넣을 수 있을까요?”가 들어갑니다.  \n",
    "**기본 매개변수가 가변 매개변수보다 앞에 오게되면 기본 매개변수는 의미가 없어집니다.**  \n",
    "반대로 기본 매개변수가 가변 매개변수보다 앞에 오면 어떻게 될까요?"
   ]
  },
  {
   "cell_type": "code",
   "execution_count": 22,
   "metadata": {},
   "outputs": [
    {
     "name": "stdout",
     "output_type": "stream",
     "text": [
      "기본 매개변수 다음에\n",
      "가변 매개변수들\n",
      "넣을 수 있을까요?\n",
      "10\n",
      "\n",
      "기본 매개변수 다음에\n",
      "가변 매개변수들\n",
      "넣을 수 있을까요?\n",
      "10\n",
      "\n",
      "기본 매개변수 다음에\n",
      "가변 매개변수들\n",
      "넣을 수 있을까요?\n",
      "10\n",
      "\n"
     ]
    }
   ],
   "source": [
    "#함수 oz는 가변 매개변수와 기본 매개변수를 사용합니다.\n",
    "\n",
    "def oz(*values, n=3):\n",
    "    \n",
    "    \"\"\" \n",
    "    Parameters:\n",
    "        *values: 가변 매개변수로, 함수에 전달된 모든 위치 인수를 튜플로 묶어서 받습니다.\n",
    "        n (int): 기본 매개변수로, 반복 횟수를 나타냅니다. 기본값은 3입니다.\n",
    "    \"\"\"\n",
    "    \n",
    "    # n번 반복하는 루프\n",
    "    for i in range(n):\n",
    "        # 가변 매개변수로 받은 값들을 하나씩 출력합니다.\n",
    "        for value in values:\n",
    "            print(value)\n",
    "        # 값들을 모두 출력한 후에는 빈 줄을 출력하여 각 반복 결과를 구분합니다.\n",
    "        print()\n",
    "\n",
    "# 함수 호출\n",
    "oz(\"기본 매개변수 다음에\", \"가변 매개변수들\", \"넣을 수 있을까요?\", 10)"
   ]
  },
  {
   "cell_type": "markdown",
   "metadata": {},
   "source": [
    "가변 매개변수에 10을 넣으려했으나, 3번만 출력되었습니다.  \n",
    "oz()함수 호출 시 입력된 매개변수들이 모두 가변 매개변수로 인식되어 oz() 함수 정의시 입력된 기본 매개변수 3이 적용되었습니다.  \n",
    "이러한 문제를 해결하기 위해서나온 개념이 키워드 매개변수입니다."
   ]
  },
  {
   "cell_type": "markdown",
   "metadata": {},
   "source": [
    "#### 2. 키워드 매개변수란?\n",
    "\n",
    "키워드 매개변수는 함수 호출 시 **매개변수를 지정할 때 매개변수의 이름을 사용하여 값을 전달**하는 것을 말합니다.  \n",
    "일반적으로 함수를 호출할 때 위치에 따라 매개변수에 값을 전달하지만, 키워드 매개변수를 사용하면 **매개변수의 이름을 지정하여 값을 전달**할 수 있습니다."
   ]
  },
  {
   "cell_type": "markdown",
   "metadata": {},
   "source": [
    "#### 3. 키워드 매개변수 예제"
   ]
  },
  {
   "cell_type": "code",
   "execution_count": 112,
   "metadata": {},
   "outputs": [
    {
     "name": "stdout",
     "output_type": "stream",
     "text": [
      "안\n",
      "녕\n",
      "하\n",
      "세\n",
      "요\n"
     ]
    }
   ],
   "source": [
    "#end = \\n\n",
    "lists = [\"안\", \"녕\", \"하\", \"세\", \"요\"]\n",
    "for i in lists:\n",
    "\t\tprint(i)"
   ]
  },
  {
   "cell_type": "code",
   "execution_count": null,
   "metadata": {},
   "outputs": [
    {
     "name": "stdout",
     "output_type": "stream",
     "text": [
      "안녕하세요"
     ]
    }
   ],
   "source": [
    "#end = \\n\n",
    "# 리스트 lists에 있는 각 요소를 출력하는 반복문입니다.\n",
    "# end 매개변수는 print 함수가 출력하는 끝 문자열을 지정합니다.\n",
    "\n",
    "# 리스트 lists에 있는 각 요소를 이어붙여 출력합니다.\n",
    "lists = [\"안\", \"녕\", \"하\", \"세\", \"요\"]\n",
    "for i in lists:\n",
    "    print(i, end=\"\")"
   ]
  },
  {
   "cell_type": "markdown",
   "metadata": {},
   "source": [
    "print() 함수를 호출할때 i는 가변 매개변수로 입력되고 뒤에 나오는 end=””는 기본 매개변수가 됩니다.  \n",
    "앞서 예시 코드와 다른점은 end=””라는 형식으로 값을 지정한 부분입니다."
   ]
  },
  {
   "cell_type": "markdown",
   "metadata": {},
   "source": [
    "#### 4. 키워드 매개변수를 사용한 함수"
   ]
  },
  {
   "cell_type": "code",
   "execution_count": 37,
   "metadata": {},
   "outputs": [
    {
     "name": "stdout",
     "output_type": "stream",
     "text": [
      "2000\n",
      "1000\n",
      "125\n"
     ]
    }
   ],
   "source": [
    "#직육면체의 부피를 구하는 함수 : 가로 = x, 세로 = y, 높이 = h\n",
    "\n",
    "def oz(x, y=20, h=10):\n",
    "\t\t# x, y, h를 곱한 결과를 출력하는 함수\n",
    "\t\tprint(x * y * h)\n",
    "  \n",
    "#x식별자에 매개변수 10을 넣은 경우\n",
    "oz(10)\n",
    "\n",
    "#x식별자에 10을 넣고 y=10이라는 키워드 매개변수를 이용한 경우\n",
    "oz(10, y=10)\n",
    "\n",
    "#모든 매개변수를 키워드 매개변수로 넣은 경우\n",
    "oz(5, y=5, h=5)"
   ]
  },
  {
   "cell_type": "markdown",
   "metadata": {},
   "source": [
    "1. 키워드 매개변수를 사용하는 이유에 대해 설명해주세요.  \n",
    "코드의 가독성과 유연성을 높이고, **함수를 호출할 때 매개변수의 순서를 기억할 필요 없이 명확하게 전달**할 수 있기 때문입니다"
   ]
  },
  {
   "cell_type": "markdown",
   "metadata": {},
   "source": [
    "2. 키워드 매개변수를 사용하기 위한 문법에 대해 설명해주세요.  \n",
    "함수를 정의할 때 매개변수 이름 뒤에 기본값을 할당하고, 함수를 호출할 때 매개변수를 매개변수 이름과 함께 지정"
   ]
  },
  {
   "cell_type": "markdown",
   "metadata": {},
   "source": [
    "#### 1. return\n",
    "return 키워드 : 함수를 실행한 위치로 되돌아 감, 일반적으로 함수가 끝나는 위치에 return을 사용합니다."
   ]
  },
  {
   "cell_type": "code",
   "execution_count": 40,
   "metadata": {},
   "outputs": [
    {
     "name": "stdout",
     "output_type": "stream",
     "text": [
      "파이썬\n",
      "재미있엉\n"
     ]
    }
   ],
   "source": [
    "# 값 없이 리턴하는 경우\n",
    "def oz_return():\n",
    "    \n",
    "    \"\"\"\n",
    "    oz_return 함수는 \"파이썬\"과 \"재미있엉\"을 출력하고, \n",
    "    이후에 함수가 종료됩니다.\n",
    "    \"\"\"\n",
    "    \n",
    "    print(\"파이썬\")  # \"파이썬\"을 출력\n",
    "    print(\"재미있엉\")  # \"재미있엉\"을 출력\n",
    "    return  # 함수 종료, 이후의 코드는 실행되지 않음\n",
    "    print(\"거짓말하네\")  # 이 코드는 실행되지 않음, return 이후의 코드는 무시됨\n",
    "    \n",
    "oz_return()"
   ]
  },
  {
   "cell_type": "markdown",
   "metadata": {},
   "source": [
    "#### 2. 값과 함께 return"
   ]
  },
  {
   "cell_type": "code",
   "execution_count": 41,
   "metadata": {},
   "outputs": [
    {
     "name": "stdout",
     "output_type": "stream",
     "text": [
      "파이썬 재미있엉\n"
     ]
    }
   ],
   "source": [
    "# 값과 함께 리턴하는 경우\n",
    "def oz_return():\n",
    "    \n",
    "    \"\"\"\n",
    "    oz_return 함수는 \"파이썬 재미있엉\" 문자열을 반환합니다.\n",
    "\n",
    "    반환 값:\n",
    "    - str: \"파이썬 재미있엉\" 문자열\n",
    "    \"\"\"\n",
    "    \n",
    "    return \"파이썬 재미있엉\"  # \"파이썬 재미있엉\" 문자열을 반환\n",
    "\n",
    "# oz_return 함수를 호출하고 그 반환 값을 result 변수에 저장\n",
    "result = oz_return()\n",
    "\n",
    "# result 변수의 값을 출력\n",
    "print(result)  # 출력 결과: \"파이썬 재미있엉\""
   ]
  },
  {
   "cell_type": "markdown",
   "metadata": {},
   "source": [
    "#### 3. 아무것도 리턴하지 않는 경우"
   ]
  },
  {
   "cell_type": "code",
   "execution_count": 42,
   "metadata": {},
   "outputs": [
    {
     "name": "stdout",
     "output_type": "stream",
     "text": [
      "None\n"
     ]
    }
   ],
   "source": [
    "def oz_return():\n",
    "    \n",
    "    \"\"\"\n",
    "    oz_return 함수는 아무 값도 반환하지 않습니다.\n",
    "    (즉, None을 반환합니다)\n",
    "    \"\"\"\n",
    "    \n",
    "    return  # 아무 값도 반환하지 않음 (None 반환)\n",
    "\n",
    "# oz_return 함수를 호출하고 그 반환 값을 result 변수에 저장\n",
    "result = oz_return()\n",
    "\n",
    "# result 변수의 값을 출력\n",
    "print(result)  # 출력 결과: None"
   ]
  },
  {
   "cell_type": "markdown",
   "metadata": {},
   "source": [
    "#### 4. input  함수"
   ]
  },
  {
   "cell_type": "code",
   "execution_count": 45,
   "metadata": {},
   "outputs": [
    {
     "name": "stdout",
     "output_type": "stream",
     "text": [
      "5\n"
     ]
    }
   ],
   "source": [
    "result = input(\"1 + 1은 ?\")\n",
    "print(result)"
   ]
  },
  {
   "cell_type": "markdown",
   "metadata": {},
   "source": [
    "input() 함수는 값을 입력받을 수 있게 해주는 기능을 가지고 있는 것으로만 생각하고 사용해왔습니다. return이라는 개념을 넣어서 이 과정을 설명해볼 수 있을 것 같습니다.  \n",
    "input()함수는 입력받은 값을 문자열로 돌려줍니다. 여기서 **돌려준다**는 의미는 **return** 한다는 의미와 같습니다.  \n",
    "그렇기 때문에 input()을 통해 입력받은 값을 변수에 담아 사용할 수 있게 되는겁니다.  \n",
    "대부분 무엇인가를 반환하는 함수들은 return을 이용한다고 생각하시면 됩니다."
   ]
  },
  {
   "cell_type": "markdown",
   "metadata": {},
   "source": [
    "#### 이해도 체크리스트"
   ]
  },
  {
   "cell_type": "markdown",
   "metadata": {},
   "source": [
    "1. 다음 코드의 출력 결과는 무엇인가요?\n",
    "    \n",
    "    ```python\n",
    "    def example():\n",
    "    \tprint(\"Hello\")\n",
    "    \treturn\n",
    "    \tprint(\"World\")\n",
    "    \n",
    "    example()\n",
    "    ```\n",
    "    \n",
    "    a) Hello\n",
    "    \n",
    "    b) Hello World\n",
    "    \n",
    "    c) World\n",
    "    \n",
    "    d) Systax Error"
   ]
  },
  {
   "cell_type": "markdown",
   "metadata": {},
   "source": [
    "정답 : a"
   ]
  },
  {
   "cell_type": "markdown",
   "metadata": {},
   "source": [
    "1. 다음 코드의 출력 결과는 무엇인가요?\n",
    "    \n",
    "    ```python\n",
    "    def add(a, b):\n",
    "    \treturn a + b\n",
    "    \n",
    "    result = add(3, 5)\n",
    "    print(result)\n",
    "    ```\n",
    "    \n",
    "    a) 8\n",
    "    \n",
    "    b) 35\n",
    "    \n",
    "    c) None\n",
    "    \n",
    "    d) Syntax Error"
   ]
  },
  {
   "cell_type": "markdown",
   "metadata": {},
   "source": [
    "정답 : a"
   ]
  },
  {
   "cell_type": "markdown",
   "metadata": {},
   "source": [
    "1. 다음 코드의 출력 결과는 무엇인가요?\n",
    "    \n",
    "    ```python\n",
    "    def nothing():\n",
    "    \treturn\n",
    "    \n",
    "    result = nothing()\n",
    "    print(result)\n",
    "    ```\n",
    "    \n",
    "    a) 0\n",
    "    \n",
    "    b) None\n",
    "    \n",
    "    c) Syntax Error\n",
    "    \n",
    "    d) Nothing"
   ]
  },
  {
   "cell_type": "markdown",
   "metadata": {},
   "source": [
    "정답 : b"
   ]
  },
  {
   "cell_type": "markdown",
   "metadata": {},
   "source": [
    "#### 1. 새로운 함수의 기본 구조\n",
    "\n",
    "return을 배운 지금, 기본 함수의 구조는 이렇게 바뀝니다."
   ]
  },
  {
   "cell_type": "code",
   "execution_count": null,
   "metadata": {},
   "outputs": [],
   "source": [
    "def 함수(매개변수):\n",
    "    \"\"\"\n",
    "    이 함수는 주어진 매개변수를 처리하여 결과를 반환합니다.\n",
    "\n",
    "    매개변수:\n",
    "    - 매개변수: 함수에 전달되는 입력 값\n",
    "\n",
    "    반환 값:\n",
    "    - 변수: 처리된 결과 값을 반환\n",
    "    \"\"\"\n",
    "    변수 = 초기값  # 초기값을 변수에 할당\n",
    "\n",
    "    # for, if, while 등의 문법으로 변수 처리\n",
    "    # 이 부분에서는 변수를 처리하기 위한 다양한 제어 구조를 사용할 수 있습니다.\n",
    "    # 예시:\n",
    "    # for 문: 반복문을 통해 변수를 처리\n",
    "    # if 문: 조건에 따라 변수의 값을 변경\n",
    "    # while 문: 특정 조건이 만족될 때까지 변수를 처리\n",
    "\n",
    "    return 변수  # 처리된 결과 값을 반환"
   ]
  },
  {
   "cell_type": "markdown",
   "metadata": {},
   "source": [
    "위 구조로 새로운 oz 함수를 만들어보겠습니다.  \n",
    "**요구조건**\n",
    "- start, end, multiple 3개 매개변수를 이용해 start부터 시작해 multiple씩 증가해 end에 도달하면 종료하는 함수  \n",
    "- ex) start = 1, end = 10, multiple = 3  \n",
    "- 출력 ⇒ 1, 4, 7"
   ]
  },
  {
   "cell_type": "code",
   "execution_count": 47,
   "metadata": {},
   "outputs": [
    {
     "name": "stdout",
     "output_type": "stream",
     "text": [
      "1  4  7  \n",
      "1  6  11  16  21  26  31  36  41  46  \n",
      "10  20  30  40  50  60  70  80  90  \n"
     ]
    }
   ],
   "source": [
    "def oz(start, end, multiple):\n",
    "    \n",
    "    \"\"\"\n",
    "    oz 함수는 주어진 시작 값부터 끝 값까지 주어진 배수 간격으로 숫자를 출력합니다.\n",
    "    매개변수:\n",
    "    - start (int): 출력할 숫자의 시작 값\n",
    "    - end (int): 출력할 숫자의 끝 값\n",
    "    - multiple (int): 숫자를 증가시키는 간격 (배수)\n",
    "    반환 값:\n",
    "    - None: 함수는 값을 반환하지 않고, 숫자를 출력합니다.\n",
    "    \"\"\"\n",
    "    \n",
    "    for i in range(start, end, multiple):\n",
    "        # start부터 end까지 multiple 간격으로 숫자를 출력\n",
    "        print(i, \" \", end=\"\")\n",
    "    print()  # 줄 바꿈을 위해 추가적인 빈 줄을 출력\n",
    "\n",
    "oz(1, 10, 3)  # 1부터 10까지 3의 배수 간격으로 숫자 출력\n",
    "oz(start=1, end=50, multiple=5)  # 1부터 50까지 5의 배수 간격으로 숫자 출력\n",
    "oz(start=10, end=100, multiple=10)  # 10부터 100까지 10의 배수 간격으로 숫자 출력"
   ]
  },
  {
   "cell_type": "markdown",
   "metadata": {},
   "source": [
    "#### 2. 기본 매개변수의 활용"
   ]
  },
  {
   "cell_type": "code",
   "execution_count": 49,
   "metadata": {},
   "outputs": [
    {
     "name": "stdout",
     "output_type": "stream",
     "text": [
      "1  4  7  \n",
      "1  2  3  4  5  6  7  8  9  10  11  12  13  14  15  16  17  18  19  20  21  22  23  24  25  26  27  28  29  30  31  32  33  34  35  36  37  38  39  40  41  42  43  44  45  46  47  48  49  \n",
      "1  11  21  31  41  51  61  71  81  91  \n"
     ]
    }
   ],
   "source": [
    "def oz(start=1, end=10, multiple=1):\n",
    "    \n",
    "    \"\"\"\n",
    "    oz 함수는 주어진 시작 값부터 끝 값까지 주어진 배수 간격으로 숫자를 출력합니다.\n",
    "    매개변수는 기본 값을 가집니다.\n",
    "    매개변수:\n",
    "    - start (int, 기본값=1): 출력할 숫자의 시작 값\n",
    "    - end (int, 기본값=10): 출력할 숫자의 끝 값\n",
    "    - multiple (int, 기본값=1): 숫자를 증가시키는 간격 (배수)\n",
    "    반환 값:\n",
    "    - None: 함수는 값을 반환하지 않고, 숫자를 출력합니다.\n",
    "    \"\"\"\n",
    "    \n",
    "    for i in range(start, end, multiple):\n",
    "        # start부터 end까지 multiple 간격으로 숫자를 출력\n",
    "        print(i, \" \", end=\"\")\n",
    "    print()  # 줄 바꿈을 위해 추가적인 빈 줄을 출력\n",
    "\n",
    "oz(1, 10, 3)  # 1부터 10까지 3의 배수 간격으로 숫자\n",
    "oz(end=50)  # start=1, multiple=1 기본값 사용, 1부터 50까지 1씩 증가\n",
    "oz(end=100, multiple=10)  # start=1 기본값 사용, 1부터 100까지 10의 배수 간격으로 숫자 출력"
   ]
  },
  {
   "cell_type": "markdown",
   "metadata": {},
   "source": [
    "이해도 체크리스트"
   ]
  },
  {
   "cell_type": "markdown",
   "metadata": {},
   "source": [
    "1. 다음 oz 함수가 호출될 때 출력 결과는 무엇인가요?\n",
    "    \n",
    "    ```python\n",
    "    def oz(start=1, end=10, multiple=1):\n",
    "        for i in range(start, end, multiple):\n",
    "            print(i, \" \", end=\"\")\n",
    "        print()\n",
    "    \n",
    "    oz(1, 10, 3)\n",
    "    ```\n",
    "    \n",
    "    a) 1 2 3 4 5 6 7 8 9 \n",
    "    \n",
    "    b) 1 4 7\n",
    "    \n",
    "    c) 3 6 9\n",
    "    \n",
    "    d) 1 3 5 7 9"
   ]
  },
  {
   "cell_type": "markdown",
   "metadata": {},
   "source": [
    "정답 : b  \n",
    "1부터 10까지 3간격으로 실행"
   ]
  },
  {
   "cell_type": "markdown",
   "metadata": {},
   "source": [
    "2. 다음 oz 함수가 호출될 때 출력 결과는 무엇인가요?\n",
    "    \n",
    "    ```python\n",
    "    def oz(start=1, end=10, multiple=1):\n",
    "        for i in range(start, end, multiple):\n",
    "            print(i, \" \", end=\"\")\n",
    "        print()\n",
    "    \n",
    "    oz(end = 50)\n",
    "    ```\n",
    "    \n",
    "    a) 1 2 3 4 5 6 7 8 9 10 … 50\n",
    "    \n",
    "    b) 1 6 11 16 21 26 31 36 41 46\n",
    "    \n",
    "    c) 1 51\n",
    "    \n",
    "    d) 1 2 3 4 5 6 7 8 9 10 … 49"
   ]
  },
  {
   "cell_type": "markdown",
   "metadata": {},
   "source": [
    "정답 : d  \n",
    "1부터 50까지 1간격으로 실행"
   ]
  },
  {
   "cell_type": "markdown",
   "metadata": {},
   "source": [
    "3. 다음 oz 함수가 호출될 때 출력 결과는 무엇인가요?\n",
    "    \n",
    "    ```python\n",
    "    def oz(start=1, end=10, multiple=1):\n",
    "        for i in range(start, end, multiple):\n",
    "            print(i, \" \", end=\"\")\n",
    "        print()\n",
    "    \n",
    "    oz(end=100, multiple=10)\n",
    "    ```\n",
    "    \n",
    "    a) 1 11 21 31 41 51 61 71 81 91\n",
    "    \n",
    "    b) 1 2 3 4 5 6 7 8 9 10 … 100\n",
    "    \n",
    "    c) 10 20 30 40 50 60 70 80 90\n",
    "    \n",
    "    d) 10 20 30 40 50 60 70 80 90 100"
   ]
  },
  {
   "cell_type": "markdown",
   "metadata": {},
   "source": [
    "정답 : a  \n",
    "1부터 100까지 10간격으로 실행"
   ]
  },
  {
   "cell_type": "markdown",
   "metadata": {},
   "source": [
    "#### 1. 재귀함수\n",
    "\n",
    "재귀함수 : 함수 안에 자신의 함수를 다시 호출하는 함수  \n",
    "ex) 팩토리얼 ⇒ 5! = 5 * 4 * 3 * 2 * 1  \n",
    "n! = n * (n - 1) * (n - 2) * … * 1"
   ]
  },
  {
   "cell_type": "code",
   "execution_count": 53,
   "metadata": {},
   "outputs": [
    {
     "name": "stdout",
     "output_type": "stream",
     "text": [
      "3의 결과는 6입니다.\n"
     ]
    }
   ],
   "source": [
    "# 반복문을 이용한 팩토리얼 구현 코드\n",
    "# 곱하기 연산이 진행되기 때문에 output의 초기값은 1입니다. 더하기 연산이 진행되는 경우는 0으로 초기값을 설정합니다.\n",
    "\n",
    "def oz_factorial(n):\n",
    "    \n",
    "    \"\"\"\n",
    "    oz_factorial 함수는 주어진 숫자 n의 팩토리얼을 계산하여 반환합니다.\n",
    "    매개변수:\n",
    "    - n (int): 팩토리얼을 계산할 숫자\n",
    "    반환 값:\n",
    "    - int: n의 팩토리얼 값\n",
    "    \"\"\"\n",
    "    \n",
    "    output = 1  # 팩토리얼 계산을 위한 초기 값 설정\n",
    "    for i in range(1, n+1):\n",
    "        # 1부터 n까지의 숫자를 순회하며 output에 곱함\n",
    "        output *= i\n",
    "    return output  # 계산된 팩토리얼 값을 반환\n",
    "\n",
    "# 사용자로부터 팩토리얼을 구할 숫자를 입력 받음\n",
    "n = int(input(\"구하고자 하는 팩토리얼의 수를 입력해주세요.\"))\n",
    "\n",
    "# oz_factorial 함수를 호출하여 n의 팩토리얼을 계산하고 결과를 출력\n",
    "print(f'{n}의 결과는 {oz_factorial(n)}입니다.')"
   ]
  },
  {
   "cell_type": "markdown",
   "metadata": {},
   "source": [
    "#### 2. 재귀함수를 이용한 팩토리얼 구현\n",
    "\n",
    "재귀함수를 이용해서 팩토리얼을 구현하는 방식은 아래와 같습니다."
   ]
  },
  {
   "cell_type": "code",
   "execution_count": null,
   "metadata": {},
   "outputs": [],
   "source": [
    "# 코드 동작\n",
    "oz_factorial(n) = n * factorial(n - 1)\n",
    "\n",
    "oz_factorial(0) = 1\n",
    "\n",
    "5!\n",
    "oz_factorial(5) = 5 * oz_factorial(4)\n",
    "\t\t\t\t\t\t\t\t= 5 * 4 * oz_factorial(3)\n",
    "\t\t\t\t\t\t\t\t= 5 * 4 * 3 * oz_factorial(2)\n",
    "\t\t\t\t\t\t\t\t= 5 * 4 * 3 * 2 * oz_factorial(1)\n",
    "\t\t\t\t\t\t\t\t= 5 * 4 * 3 * 2 * 1 * oz_factorial(0)\n",
    "\t\t\t\t\t\t\t\t= 5 * 4 * 3 * 2 * 1 * 1"
   ]
  },
  {
   "cell_type": "code",
   "execution_count": 54,
   "metadata": {},
   "outputs": [
    {
     "name": "stdout",
     "output_type": "stream",
     "text": [
      "5의 결과는 120입니다.\n"
     ]
    }
   ],
   "source": [
    "# 재귀함수를 이용한 팩토리얼 구현 코드\n",
    "def oz_factorial(n):\n",
    "    \n",
    "    \"\"\"\n",
    "    oz_factorial 함수는 주어진 숫자 n의 팩토리얼을 재귀적으로 계산하여 반환합니다.\n",
    "    매개변수:\n",
    "    - n (int): 팩토리얼을 계산할 숫자\n",
    "    반환 값:\n",
    "    - int: n의 팩토리얼 값\n",
    "    \"\"\"\n",
    "    \n",
    "    if n == 0:\n",
    "        # n이 0인 경우, 팩토리얼은 1입니다.\n",
    "        return 1\n",
    "    else:\n",
    "        # n이 0이 아닌 경우, n * oz_factorial(n-1) 호출\n",
    "        # 이 재귀 호출은 n이 0이 될 때까지 계속됩니다.\n",
    "        return n * oz_factorial(n - 1)\n",
    "\n",
    "# 사용자로부터 팩토리얼을 구할 숫자를 입력 받음\n",
    "n = int(input(\"구하고자 하는 팩토리얼의 수를 입력해주세요.\"))\n",
    "\n",
    "# oz_factorial 함수를 호출하여 n의 팩토리얼을 계산하고 결과를 출력\n",
    "print(f'{n}의 결과는 {oz_factorial(n)}입니다.')"
   ]
  },
  {
   "cell_type": "markdown",
   "metadata": {},
   "source": [
    "#### 3. 재귀함수의 장단점\n",
    "\n",
    "재귀함수는 for문이나 while문 대신 사용되기 때문에 코드가 간결해지고 불필요한 변수를 만들지 않아도 되는 장점이 있습니다.  \n",
    "다만, 몇 가지 단점이 있습니다.  \n",
    "1. Stack overflow가 발생할 수 있습니다. ⇒ 꼬리 재귀로 문제 해결 가능\n",
    "2. 지속적인 함수 호출로 인해 함수 안에 변수를 계속해서 선언하게 되며, 이로 인해 과도한 메모리 사용과 속도 저하가 발생할 수 있습니다. ⇒ 메모이제이션으로 문제 해결 가능\n",
    "\n",
    "그래서 최근까지 재귀함수 대신 for문으로 구현하는 것이 더 안정적이라는 의견이 강했습니다. 하지만, 이러한 문제도 코드적으로 해결이 가능합니다.  \n",
    "과도한 메모리 사용과 속도 저하를 발생시키는 요인들을 메모이제이션으로 해결하는 과정에 대해 알아보겠습니다."
   ]
  },
  {
   "cell_type": "markdown",
   "metadata": {},
   "source": [
    "#### 4. 재귀함수의 문제점 해결\n",
    "\n",
    "피보나치 수열 : 첫째 및 둘째 항이 1이며, 그 뒤의 모든 항은 바로 앞 두 항의 합인 수열로 이루어져 있습니다.  \n",
    "**규칙**\n",
    "\n",
    "- 시작은 한쌍의 토끼입니다.\n",
    "- 두 달 이상된 토끼는 번식을 할 수 있고, 번식이 가능한 달부터 매달 새끼를 한 쌍씩 낳을 수 있습니다."
   ]
  },
  {
   "cell_type": "code",
   "execution_count": 55,
   "metadata": {},
   "outputs": [
    {
     "name": "stdout",
     "output_type": "stream",
     "text": [
      "피보나치 수열 5을(를) 구하는 중입니다.\n",
      "피보나치 수열 4을(를) 구하는 중입니다.\n",
      "피보나치 수열 3을(를) 구하는 중입니다.\n",
      "피보나치 수열 2을(를) 구하는 중입니다.\n",
      "피보나치 수열 1을(를) 구하는 중입니다.\n",
      "피보나치 수열 2을(를) 구하는 중입니다.\n",
      "피보나치 수열 3을(를) 구하는 중입니다.\n",
      "피보나치 수열 2을(를) 구하는 중입니다.\n",
      "피보나치 수열 1을(를) 구하는 중입니다.\n",
      "피보나치 수열 5을 구하기 위해 계산된 횟수는 9번 입니다.\n"
     ]
    }
   ],
   "source": [
    "# 피보나치 수열 함수 실행 시 계산되는 함수를 파악해봅니다.\n",
    "# 파이썬은 함수 내부에서 함수 밖에 있는 변수를 사용할 수 없습니다.\n",
    "# 그래서 global 키워드 함수를 이용해 함수 내부에서\n",
    "# 함수 밖에 있는 변수를 사용할 수 있도록 만들어 줍니다.\n",
    "\n",
    "count = 0  # 전역 변수 count를 초기화\n",
    "\n",
    "def oz_fibo(n):\n",
    "    \n",
    "    \"\"\"\n",
    "    oz_fibo 함수는 주어진 숫자 n에 해당하는 피보나치 수를 재귀적으로 계산하여 반환합니다.\n",
    "    또한, 함수 호출 횟수를 전역 변수 count에 기록합니다.\n",
    "    매개변수:\n",
    "    - n (int): 피보나치 수열에서 원하는 위치\n",
    "    반환 값:\n",
    "    - int: n번째 피보나치 수\n",
    "    \"\"\"\n",
    "    \n",
    "    print(f'피보나치 수열 {n}을(를) 구하는 중입니다.')  # 현재 계산 중인 피보나치 수를 출력\n",
    "    global count  # 전역 변수 count를 사용하기 위해 global 키워드를 사용\n",
    "    count += 1  # 함수 호출 횟수를 증가\n",
    "\n",
    "    if n == 1:\n",
    "        return 1  # 첫 번째 피보나치 수는 1\n",
    "    if n == 2:\n",
    "        return 1  # 두 번째 피보나치 수는 1\n",
    "    else:\n",
    "        # n이 1 또는 2가 아닌 경우, 재귀적으로 피보나치 수를 계산\n",
    "        return oz_fibo(n - 1) + oz_fibo(n - 2)\n",
    "\n",
    "# 사용자로부터 피보나치 수열의 원하는 위치를 입력 받음\n",
    "n = int(input(\"구하고자 하는 피보나치 수열의 수를 입력해주세요.\"))\n",
    "\n",
    "# oz_fibo 함수를 호출하여 n번째 피보나치 수를 계산\n",
    "oz_fibo(n)\n",
    "\n",
    "# 계산된 함수 호출 횟수를 출력\n",
    "print(f'피보나치 수열 {n}을 구하기 위해 계산된 횟수는 {count}번 입니다.')"
   ]
  },
  {
   "cell_type": "markdown",
   "metadata": {},
   "source": [
    "아래와 같은 구조를 트리라고 부르고, 트리에 달려있는 동그라미 모양을 노드라고 부릅니다. 그리고 가장 마지막에 달려 있는 노드(동그라미)를 리프라고 합니다."
   ]
  },
  {
   "cell_type": "markdown",
   "metadata": {},
   "source": [
    "#### 5. 메모이제이션\n",
    "  \n",
    "메모이제이션 : 컴퓨터 프로그램이 동일한 계산을 반복적으로 해야 할 때, 이전에 계산한 값을 메모리에 저장하여 중복적인 계산을 제거해 전체적인 실행 속도를 빠르게 해주는 기법으로, 동적 계획법(DP)의 핵심 기술입니다.  \n",
    "\n",
    "메모이제이션의 개념을 이용해 아래와 같이 코드를 작성할 수 있습니다.\n",
    "\n",
    "**코드 핵심 설명**\n",
    "\n",
    "- 초기 값으로 설정했던 첫번째와 두번째 결과값을 memo변수에 dict형 자료형을 넣어 저장합니다.\n",
    "- oz_fibo()함수 실행 시 memo 변수에 계산할 피보나치 수열의 결과값이 있는지를 확인합니다. 있다면 계산을 하지 않고 이미 계산되어 저장된 결과값을 이용합니다.\n",
    "- 만일 결과값이 저장되어 있지 않은 경우 계산을 합니다. 그리고 계산된 결과값은 다음 계산에서 활용할 수 있도록 memo에 저장합니다."
   ]
  },
  {
   "cell_type": "code",
   "execution_count": 57,
   "metadata": {},
   "outputs": [
    {
     "name": "stdout",
     "output_type": "stream",
     "text": [
      "피보나치 수열 5을(를) 구하는 중입니다.\n",
      "피보나치 수열 4을(를) 구하는 중입니다.\n",
      "피보나치 수열 3을(를) 구하는 중입니다.\n",
      "피보나치 수열 2을(를) 구하는 중입니다.\n",
      "피보나치 수열 1을(를) 구하는 중입니다.\n",
      "피보나치 수열 2을(를) 구하는 중입니다.\n",
      "피보나치 수열 3을(를) 구하는 중입니다.\n",
      "피보나치 수열 5을 구하기 위해 계산된 횟수는 7번 입니다.\n"
     ]
    }
   ],
   "source": [
    "# 메모이제이션을 위한 딕셔너리, 초기값으로 피보나치 수열의 첫 두 값을 저장\n",
    "memo = {\n",
    "    1: 1,\n",
    "    2: 1\n",
    "}\n",
    "\n",
    "count = 0  # 전역 변수 count를 초기화\n",
    "\n",
    "def oz_fibo(n):\n",
    "    \n",
    "    \"\"\"\n",
    "    oz_fibo 함수는 주어진 숫자 n에 해당하는 피보나치 수를 메모이제이션을 사용하여 재귀적으로 계산합니다.\n",
    "    또한, 함수 호출 횟수를 전역 변수 count에 기록합니다.\n",
    "    매개변수:\n",
    "    - n (int): 피보나치 수열에서 원하는 위치\n",
    "    반환 값:\n",
    "    - int: n번째 피보나치 수\n",
    "    \"\"\"\n",
    "    \n",
    "    print(f'피보나치 수열 {n}을(를) 구하는 중입니다.')  # 현재 계산 중인 피보나치 수를 출력\n",
    "    global count  # 전역 변수 count를 사용하기 위해 global 키워드를 사용\n",
    "    count += 1  # 함수 호출 횟수를 증가\n",
    "\n",
    "    if n in memo:\n",
    "        # n이 memo에 있는 경우, 저장된 값을 반환\n",
    "        return memo[n]\n",
    "    else:\n",
    "        # n이 memo에 없는 경우, 재귀적으로 피보나치 수를 계산하고 memo에 저장\n",
    "        output = oz_fibo(n - 1) + oz_fibo(n - 2)\n",
    "        memo[n] = output  # 계산된 결과를 memo에 저장\n",
    "        return output\n",
    "\n",
    "# 사용자로부터 피보나치 수열의 원하는 위치를 입력 받음\n",
    "n = int(input(\"구하고자 하는 피보나치 수열의 수를 입력해주세요.\"))\n",
    "\n",
    "# oz_fibo 함수를 호출하여 n번째 피보나치 수를 계산\n",
    "oz_fibo(n)\n",
    "\n",
    "# 계산된 함수 호출 횟수를 출력\n",
    "print(f'피보나치 수열 {n}을 구하기 위해 계산된 횟수는 {count}번 입니다.')"
   ]
  },
  {
   "cell_type": "markdown",
   "metadata": {},
   "source": [
    "실행되는 횟수가 약 1/3으로 줄어든 것을 확인할 수 있습니다."
   ]
  },
  {
   "cell_type": "markdown",
   "metadata": {},
   "source": [
    "이해도 체크리스트"
   ]
  },
  {
   "cell_type": "markdown",
   "metadata": {},
   "source": [
    "1. 재귀함수에 대한 설명과 장단점을 알려주세요."
   ]
  },
  {
   "cell_type": "markdown",
   "metadata": {},
   "source": [
    "정답 :  \n",
    "재귀함수란 함수가 자기 자신을 호출하여 반복적인 작업을 수행하는 함수  \n",
    "장점은 코드가 간결해지고 읽기 쉬워짐  \n",
    "단점은 메모리를 많이 사요해서 스택 오버플로를 발생시킬수 있고 반복문보다 성능이 떨어질수있고 디버깅이 어려울수 있음"
   ]
  },
  {
   "cell_type": "markdown",
   "metadata": {},
   "source": [
    "2. 재귀함수 사용 시 발생할 수 있는 단점과 해결방법에 대해 알려주세요."
   ]
  },
  {
   "cell_type": "markdown",
   "metadata": {},
   "source": [
    "정답 :  \n",
    "단점은 위에 적은거고 해결방법으론 메모이제이션이 있음"
   ]
  },
  {
   "cell_type": "markdown",
   "metadata": {},
   "source": [
    "3. 메모이제이션에 대해 설명해주세요."
   ]
  },
  {
   "cell_type": "markdown",
   "metadata": {},
   "source": [
    "정답 :  \n",
    "중복된 계산을 방지하기 위해 이미 계산된 결과를 저장하는 기법"
   ]
  },
  {
   "cell_type": "markdown",
   "metadata": {},
   "source": [
    "#### 1. 조기 리턴\n",
    "\n",
    "함수에서 return은 함수의 종료를 알리는데 주로 사용됩니다.\n",
    "\n",
    "또한, 함수 안에서 return 키워드를 만나면 함수를 호출했던 곳으로 이동합니다."
   ]
  },
  {
   "cell_type": "code",
   "execution_count": 59,
   "metadata": {},
   "outputs": [
    {
     "name": "stdout",
     "output_type": "stream",
     "text": [
      "피보나치 수열 5을 구하는 중입니다.\n",
      "피보나치 수열 4을 구하는 중입니다.\n",
      "피보나치 수열 3을 구하는 중입니다.\n",
      "피보나치 수열 2을 구하는 중입니다.\n",
      "피보나치 수열 1을 구하는 중입니다.\n",
      "피보나치 수열 2을 구하는 중입니다.\n",
      "피보나치 수열 3을 구하는 중입니다.\n",
      "피보나치 수열 5을 구하기 위해 계산된 횟수는 7입니다.\n"
     ]
    }
   ],
   "source": [
    "memo = {\n",
    "\t1: 1,\n",
    "\t2: 1\n",
    "}\n",
    "\n",
    "count = 0\n",
    "\n",
    "def oz_fibo(n):\n",
    "\tprint(f'피보나치 수열 {n}을 구하는 중입니다.')\n",
    "\tglobal count\n",
    "\tcount += 1\n",
    "\t\n",
    "\tif n in memo:\n",
    "\t\treturn memo[n]\n",
    "\telse:\n",
    "\t\toutput = oz_fibo(n - 1) + oz_fibo(n - 2)\n",
    "\t\tmemo[n] = output\n",
    "\t\treturn output\n",
    "\t\t\n",
    "n = int(input(\"구하고자 하는 피보나치 수열의 수를 입력해주세요\"))\n",
    "\n",
    "oz_fibo(n)\n",
    "\n",
    "print(f\"피보나치 수열 {n}을 구하기 위해 계산된 횟수는 {count}입니다.\")"
   ]
  },
  {
   "cell_type": "markdown",
   "metadata": {},
   "source": [
    "코드 리팩토링"
   ]
  },
  {
   "cell_type": "code",
   "execution_count": 60,
   "metadata": {},
   "outputs": [
    {
     "name": "stdout",
     "output_type": "stream",
     "text": [
      "피보나치 수열 5을 구하는 중입니다.\n",
      "피보나치 수열 4을 구하는 중입니다.\n",
      "피보나치 수열 3을 구하는 중입니다.\n",
      "피보나치 수열 2을 구하는 중입니다.\n",
      "피보나치 수열 1을 구하는 중입니다.\n",
      "피보나치 수열 2을 구하는 중입니다.\n",
      "피보나치 수열 3을 구하는 중입니다.\n",
      "피보나치 수열 5을 구하기 위해 계산된 횟수는 7입니다.\n"
     ]
    }
   ],
   "source": [
    "# 메모이제이션을 위한 딕셔너리, 초기값으로 피보나치 수열의 첫 두 값을 저장\n",
    "memo = {\n",
    "    1: 1,\n",
    "    2: 1\n",
    "}\n",
    "\n",
    "count = 0  # 전역 변수 count를 초기화\n",
    "\n",
    "def oz_fibo(n):\n",
    "    \n",
    "    \"\"\"\n",
    "    oz_fibo 함수는 주어진 숫자 n에 해당하는 피보나치 수를 메모이제이션을 사용하여 재귀적으로 계산합니다.\n",
    "    또한, 함수 호출 횟수를 전역 변수 count에 기록합니다.\n",
    "    매개변수:\n",
    "    - n (int): 피보나치 수열에서 원하는 위치\n",
    "    반환 값:\n",
    "    - int: n번째 피보나치 수\n",
    "    \"\"\"\n",
    "    \n",
    "    print(f'피보나치 수열 {n}을 구하는 중입니다.')  # 현재 계산 중인 피보나치 수를 출력\n",
    "    global count  # 전역 변수 count를 사용하기 위해 global 키워드를 사용\n",
    "    count += 1  # 함수 호출 횟수를 증가\n",
    "\n",
    "    if n in memo:\n",
    "        # n이 memo에 있는 경우, 저장된 값을 반환\n",
    "        return memo[n]\n",
    "    \n",
    "    # n이 memo에 없는 경우, 재귀적으로 피보나치 수를 계산하고 memo에 저장\n",
    "    output = oz_fibo(n - 1) + oz_fibo(n - 2)\n",
    "    memo[n] = output  # 계산된 결과를 memo에 저장\n",
    "    return output\n",
    "\n",
    "# 사용자로부터 피보나치 수열의 원하는 위치를 입력 받음\n",
    "n = int(input(\"구하고자 하는 피보나치 수열의 수를 입력해주세요\"))\n",
    "\n",
    "# oz_fibo 함수를 호출하여 n번째 피보나치 수를 계산\n",
    "oz_fibo(n)\n",
    "\n",
    "# 계산된 함수 호출 횟수를 출력\n",
    "print(f\"피보나치 수열 {n}을 구하기 위해 계산된 횟수는 {count}입니다.\")"
   ]
  },
  {
   "cell_type": "markdown",
   "metadata": {},
   "source": [
    "#### 1. 튜플\n",
    "\n",
    "튜플은 list와 비슷한 시퀸스 자료형입니다.  \n",
    "단, list와의 차이점은 요소를 바꿀 수 없다는 점입니다.  \n",
    "튜플을 생성할 때는 소괄호”()”를 이용합니다.  \n",
    "ex) 변수명 = (데이터1, 데이터2, 데이터3)"
   ]
  },
  {
   "cell_type": "code",
   "execution_count": 62,
   "metadata": {},
   "outputs": [
    {
     "name": "stdout",
     "output_type": "stream",
     "text": [
      "피보나치 수열 5을 구하는 중입니다.\n",
      "피보나치 수열 4을 구하는 중입니다.\n",
      "피보나치 수열 3을 구하는 중입니다.\n",
      "피보나치 수열 2을 구하는 중입니다.\n",
      "피보나치 수열 1을 구하는 중입니다.\n",
      "피보나치 수열 2을 구하는 중입니다.\n",
      "피보나치 수열 3을 구하는 중입니다.\n",
      "피보나치 수열 5을 구하기 위해 계산된 횟수는 7입니다.\n",
      "(1, 2, 3)\n",
      "1\n",
      "2\n",
      "3\n"
     ]
    }
   ],
   "source": [
    "memo = {\n",
    "1: 1,\n",
    "2: 1\n",
    "}\n",
    "\n",
    "count = 0\n",
    "\n",
    "def oz_fibo(n):\n",
    "    print(f'피보나치 수열 {n}을 구하는 중입니다.')\n",
    "    global count\n",
    "    count += 1\n",
    "\n",
    "    if n in memo:\n",
    "        return memo[n]\n",
    "    else:\n",
    "        output = oz_fibo(n - 1) + oz_fibo(n - 2)\n",
    "        memo[n] = output\n",
    "        return output\n",
    "    \n",
    "n = int(input(\"구하고자 하는 피보나치 수열의 수를 입력해주세요\"))\n",
    "\n",
    "oz_fibo(n)\n",
    "\n",
    "print(f\"피보나치 수열 {n}을 구하기 위해 계산된 횟수는 {count}입니다.\")\n",
    "\n",
    "oz_tuple = (1, 2, 3)  # 튜플 oz_tuple을 정의하고 초기화\n",
    "\n",
    "print(oz_tuple)  # 전체 튜플을 출력 (출력: (1, 2, 3))\n",
    "print(oz_tuple[0])  # 첫 번째 요소를 출력 (출력: 1)\n",
    "print(oz_tuple[1])  # 두 번째 요소를 출력 (출력: 2)\n",
    "print(oz_tuple[2])  # 세 번째 요소를 출력 (출력: 3)"
   ]
  },
  {
   "cell_type": "markdown",
   "metadata": {},
   "source": [
    "#### 2. 튜플 데이터 변경\n",
    "\n",
    "튜플은 **데이터 변경이 불가능**합니다."
   ]
  },
  {
   "cell_type": "code",
   "execution_count": 86,
   "metadata": {},
   "outputs": [
    {
     "ename": "TypeError",
     "evalue": "'tuple' object does not support item assignment",
     "output_type": "error",
     "traceback": [
      "\u001b[1;31m---------------------------------------------------------------------------\u001b[0m",
      "\u001b[1;31mTypeError\u001b[0m                                 Traceback (most recent call last)",
      "Cell \u001b[1;32mIn[86], line 2\u001b[0m\n\u001b[0;32m      1\u001b[0m oz_tuple \u001b[38;5;241m=\u001b[39m (\u001b[38;5;241m1\u001b[39m, \u001b[38;5;241m2\u001b[39m, \u001b[38;5;241m3\u001b[39m)\n\u001b[1;32m----> 2\u001b[0m \u001b[43moz_tuple\u001b[49m\u001b[43m[\u001b[49m\u001b[38;5;241;43m0\u001b[39;49m\u001b[43m]\u001b[49m \u001b[38;5;241m=\u001b[39m \u001b[38;5;241m5\u001b[39m \u001b[38;5;66;03m# 에러발생\u001b[39;00m\n",
      "\u001b[1;31mTypeError\u001b[0m: 'tuple' object does not support item assignment"
     ]
    }
   ],
   "source": [
    "oz_tuple = (1, 2, 3)\n",
    "oz_tuple[0] = 5 # 에러발생"
   ]
  },
  {
   "cell_type": "markdown",
   "metadata": {},
   "source": [
    "#### 3. 튜플 데이터 할당\n",
    "\n",
    "튜플은 괄호 없이 여러 값을 할당할 수 있습니다."
   ]
  },
  {
   "cell_type": "code",
   "execution_count": 74,
   "metadata": {},
   "outputs": [
    {
     "name": "stdout",
     "output_type": "stream",
     "text": [
      "oz_tuple:  (1, 2, 3, 4)\n",
      "oz_tuple type:  <class 'tuple'>\n"
     ]
    }
   ],
   "source": [
    "oz_tuple = 1, 2, 3, 4\n",
    "\n",
    "print(\"oz_tuple: \", oz_tuple)\n",
    "print(\"oz_tuple type: \", type(oz_tuple))"
   ]
  },
  {
   "cell_type": "code",
   "execution_count": 85,
   "metadata": {},
   "outputs": [
    {
     "name": "stdout",
     "output_type": "stream",
     "text": [
      "1\n",
      "2\n",
      "3\n"
     ]
    }
   ],
   "source": [
    "x, y, z = 1, 2, 3\n",
    "print(x)\n",
    "print(y)\n",
    "print(z)"
   ]
  },
  {
   "cell_type": "markdown",
   "metadata": {},
   "source": [
    "#### 4. 튜플 값 교환\n",
    "\n",
    "튜플 내부의 값을 변경할 수는 없지만 값을 교환할 수는 있습니다."
   ]
  },
  {
   "cell_type": "code",
   "execution_count": 98,
   "metadata": {},
   "outputs": [
    {
     "name": "stdout",
     "output_type": "stream",
     "text": [
      "x : 1\n",
      "y : 2\n",
      "x : 2\n",
      "y : 1\n"
     ]
    }
   ],
   "source": [
    "x, y = 1, 2\n",
    "\n",
    "print(\"x :\", x)\n",
    "print(\"y :\", y)\n",
    "\n",
    "x, y = y, x\n",
    "print(\"x :\", x)\n",
    "print(\"y :\", y)"
   ]
  },
  {
   "cell_type": "markdown",
   "metadata": {},
   "source": [
    "#### 5. 튜플의 값 리턴\n",
    "\n",
    "튜플을 사용하면 여러 개의 값을 리턴할 수 있습니다."
   ]
  },
  {
   "cell_type": "code",
   "execution_count": 90,
   "metadata": {},
   "outputs": [
    {
     "name": "stdout",
     "output_type": "stream",
     "text": [
      "x:  1\n",
      "y:  2\n"
     ]
    }
   ],
   "source": [
    "def oz_tuple():\n",
    "\treturn (1, 2)\n",
    "\n",
    "x, y = oz_tuple()\n",
    "\n",
    "print(\"x: \", x)\n",
    "print(\"y: \", y)"
   ]
  },
  {
   "cell_type": "markdown",
   "metadata": {},
   "source": [
    "#### 6. 튜플을 이용한 내부함수"
   ]
  },
  {
   "cell_type": "code",
   "execution_count": 91,
   "metadata": {},
   "outputs": [
    {
     "name": "stdout",
     "output_type": "stream",
     "text": [
      "0 1\n",
      "1 2\n",
      "2 3\n",
      "3 4\n"
     ]
    }
   ],
   "source": [
    "# 튜플을 이용한 내부함수들\n",
    "# enumerate()의 1, fruit는 (1, fruit)이나 괄호를 생략한 상태입니다.\n",
    "# enumerate()란 반복가능한 객체(튜플 리스트 등등)을 입력받아 열거형(enumerate) 객체를 반환\n",
    "\n",
    "# 튜플 (1, 2, 3, 4)의 각 요소와 해당 요소의 인덱스를 반복하여 출력\n",
    "for index, fruit in enumerate((1, 2, 3, 4)):\n",
    "    print(index, fruit)  # 현재 인덱스와 해당 인덱스의 요소를 출력"
   ]
  },
  {
   "cell_type": "code",
   "execution_count": 92,
   "metadata": {},
   "outputs": [
    {
     "name": "stdout",
     "output_type": "stream",
     "text": [
      "몫:  2\n",
      "나머지:  1\n"
     ]
    }
   ],
   "source": [
    "# divcode() 사용 시 튜플 형태로 몫과 나머지를 반환\n",
    "a, b = 7, 3  # 변수 a와 b를 각각 7과 3으로 초기화\n",
    "x, y = divmod(a, b)  # divmod 함수를 사용하여 a를 b로 나눈 몫과 나머지를 구함\n",
    "\n",
    "print(\"몫: \", x)  # 계산된 몫 x를 출력\n",
    "print(\"나머지: \", y)  # 계산된 나머지 y를 출력"
   ]
  },
  {
   "cell_type": "markdown",
   "metadata": {},
   "source": [
    "이해도 체크리스트"
   ]
  },
  {
   "cell_type": "markdown",
   "metadata": {},
   "source": [
    "1. 튜플의 특징에 대해 설명해주세요."
   ]
  },
  {
   "cell_type": "markdown",
   "metadata": {},
   "source": [
    "정답 : 튜플의 특징은 불변성을 가지고 순서가 있으며 중복을 허용하고 다양한 데이터 타입을 포함할수있고 소괄호를 사용한다"
   ]
  },
  {
   "cell_type": "markdown",
   "metadata": {},
   "source": [
    "2. 괄호없이 여러개의 값의 할당하는 코드 작성법에 대해 설명해주세요."
   ]
  },
  {
   "cell_type": "markdown",
   "metadata": {},
   "source": [
    "a, b, c = 10, 20, 30"
   ]
  },
  {
   "cell_type": "markdown",
   "metadata": {},
   "source": [
    "#### 1. 람다\n",
    "\n",
    "앞서 우리는 함수에 매개변수를 전달받아 실행하는 코드를 작성했습니다.  \n",
    "기존 방식 외에도 함수는 더 놀라운 것들을 매개변수로 받아올 수 있습니다. 바로, 함수 자체를 매개변수로 받을 수 있다는 사실입니다.  \n",
    "이렇게 함수 자체를 매개변수로 사용하기 쉽게 돕는 기능이 람다입니다.  \n",
    "우선, 함수의 매개변수로 전달하는 방법에 대한 코드를 보겠습니다. (함수의 매개변수로 사용되는 함수를 **콜백 함수**라고 합니다.)"
   ]
  },
  {
   "cell_type": "code",
   "execution_count": 101,
   "metadata": {},
   "outputs": [
    {
     "name": "stdout",
     "output_type": "stream",
     "text": [
      "파이썬 이건 또 무슨 개념이야?\n",
      "파이썬 이건 또 무슨 개념이야?\n",
      "파이썬 이건 또 무슨 개념이야?\n",
      "파이썬 이건 또 무슨 개념이야?\n",
      "파이썬 이건 또 무슨 개념이야?\n"
     ]
    }
   ],
   "source": [
    "def oz_call(function):\n",
    "    \"\"\"\n",
    "    oz_call 함수는 주어진 함수를 5번 호출합니다.\n",
    "\n",
    "    매개변수:\n",
    "    - function (callable): 호출할 함수\n",
    "    \"\"\"\n",
    "    for i in range(5):\n",
    "        # 주어진 function을 호출\n",
    "        function()\n",
    "\n",
    "def talk():\n",
    "    \n",
    "    \"\"\"\n",
    "    talk 함수는 특정 메시지를 출력합니다.\n",
    "    \"\"\"\n",
    "    \n",
    "    print(\"파이썬 이건 또 무슨 개념이야?\")  # 메시지를 출력\n",
    "\n",
    "# oz_call 함수를 호출하여 talk 함수를 5번 실행\n",
    "oz_call(talk)"
   ]
  },
  {
   "cell_type": "markdown",
   "metadata": {},
   "source": [
    "#### 2. 함수를 매개변수로 사용하는 내장함수\n",
    "\n",
    "함수를 매개변수로 사용하는 대표적인 내장 함수로는 map() 함수와 filter() 함수가 있습니다.  \n",
    "- map(): 리스트의 요소를 함수에 넣고 반환된 값으로 새로운 리스트를 만듭니다.\n",
    "- filter(): 리스트의 요소를 함수에 넣고 반환된 값이 True인 값만으로 새로운 리스트를 만듭니다."
   ]
  },
  {
   "cell_type": "code",
   "execution_count": 121,
   "metadata": {},
   "outputs": [
    {
     "name": "stdout",
     "output_type": "stream",
     "text": [
      "map 결과:  <map object at 0x000001EF8F73F160>\n",
      "map 결과의 list 형변환:  [1, 4, 9, 16, 25, 36, 49, 64, 81, 100]\n"
     ]
    }
   ],
   "source": [
    "# 자기 자신을 곱한 결과를 새로운 list를 만들어주는 map() 함수 코드\n",
    "def square(i):\n",
    "    \n",
    "    \"\"\"\n",
    "    square 함수는 주어진 숫자를 제곱하여 반환합니다.\n",
    "    매개변수:\n",
    "    - i (int): 제곱할 숫자\n",
    "    반환 값:\n",
    "    - int: i의 제곱 값\n",
    "    \"\"\"\n",
    "    \n",
    "    return i * i  # 주어진 숫자 i를 제곱하여 반환\n",
    "\n",
    "# 1부터 10까지의 숫자를 포함하는 리스트를 생성\n",
    "numbers_list = [1, 2, 3, 4, 5, 6, 7, 8, 9, 10]\n",
    "\n",
    "# map 함수를 사용하여 numbers_list의 각 요소에 square 함수를 적용\n",
    "result = map(square, numbers_list)\n",
    "\n",
    "print(\"map 결과: \", result)  # map 객체의 주소를 출력\n",
    "print(\"map 결과의 list 형변환: \", list(result))  # map 결과를 리스트로 변환하여 출력"
   ]
  },
  {
   "cell_type": "code",
   "execution_count": 122,
   "metadata": {},
   "outputs": [
    {
     "name": "stdout",
     "output_type": "stream",
     "text": [
      "filter 결과:  <filter object at 0x000001EF8F73FCD0>\n",
      "filter 결과의 list 형변환:  [1, 2, 3, 4]\n"
     ]
    }
   ],
   "source": [
    "# 조건에 맞는 값만을 이용해 새로운 list를 만들어주는 filter()함수 코드\n",
    "def under(i):\n",
    "    \"\"\"\n",
    "    under 함수는 주어진 숫자가 5보다 작은지 여부를 반환합니다.\n",
    "\n",
    "    매개변수:\n",
    "    - i (int): 비교할 숫자\n",
    "\n",
    "    반환 값:\n",
    "    - bool: i가 5보다 작으면 True, 그렇지 않으면 False\n",
    "    \"\"\"\n",
    "    return i < 5  # 주어진 숫자 i가 5보다 작은지 확인하여 반환\n",
    "\n",
    "# 1부터 10까지의 숫자를 포함하는 리스트를 생성\n",
    "numbers_list = [1, 2, 3, 4, 5, 6, 7, 8, 9, 10]\n",
    "\n",
    "# filter 함수를 사용하여 numbers_list의 각 요소에 under 함수를 적용\n",
    "result = filter(under, numbers_list)\n",
    "\n",
    "print(\"filter 결과: \", result)  # filter 객체의 주소를 출력\n",
    "print(\"filter 결과의 list 형변환: \", list(result))  # filter 결과를 리스트로 변환하여 출력"
   ]
  },
  {
   "cell_type": "markdown",
   "metadata": {},
   "source": [
    "<map object at 0x10992afe0>, <filter object at 0x10992be50>은 제너레이터라고 부릅니다.  \n",
    "지금까지 콜백 함수를 효율적으로 사용할 수 있도록 도와주는 map(), filter에 대해 알아보았습니다.   \n",
    "지금부터 람다에 대해 알아보겠습니다.  \n",
    "lambda : 간단한 함수를 쉽게 선언하는 방법으로 이름이 없는 익명함수를 만들 수 있습니다."
   ]
  },
  {
   "cell_type": "code",
   "execution_count": null,
   "metadata": {},
   "outputs": [],
   "source": [
    "# lambda 코드 구조\n",
    "lambda 매개변수 : 리턴값"
   ]
  },
  {
   "cell_type": "markdown",
   "metadata": {},
   "source": [
    "구조가 굉장히 간단합니다.  \n",
    "이전 코드에 lambda를 활용해보겠습니다."
   ]
  },
  {
   "cell_type": "code",
   "execution_count": 123,
   "metadata": {},
   "outputs": [
    {
     "name": "stdout",
     "output_type": "stream",
     "text": [
      "map 결과:  <map object at 0x000001EF8F73FCA0>\n",
      "map 결과의 list 형변환:  [1, 4, 9, 16, 25, 36, 49, 64, 81, 100]\n"
     ]
    }
   ],
   "source": [
    "# lambda 함수를 사용하여 주어진 숫자를 제곱하는 익명 함수를 정의\n",
    "square = lambda i: i * i\n",
    "\n",
    "# 1부터 10까지의 숫자를 포함하는 리스트를 생성\n",
    "numbers_list = [1, 2, 3, 4, 5, 6, 7, 8, 9, 10]\n",
    "\n",
    "# map 함수를 사용하여 numbers_list의 각 요소에 square 함수를 적용\n",
    "result = map(square, numbers_list)\n",
    "\n",
    "print(\"map 결과: \", result)  # map 객체의 주소를 출력\n",
    "print(\"map 결과의 list 형변환: \", list(result))  # map 결과를 리스트로 변환하여 출력"
   ]
  },
  {
   "cell_type": "code",
   "execution_count": 124,
   "metadata": {},
   "outputs": [
    {
     "name": "stdout",
     "output_type": "stream",
     "text": [
      "filter 결과:  <filter object at 0x000001EF8F73C850>\n",
      "filter 결과의 list 형변환:  [1, 2, 3, 4]\n"
     ]
    }
   ],
   "source": [
    "# lambda 함수를 사용하여 주어진 숫자가 5보다 작은지 여부를 반환하는 익명 함수를 정의\n",
    "under = lambda i: i < 5\n",
    "\n",
    "# 1부터 10까지의 숫자를 포함하는 리스트를 생성\n",
    "numbers_list = [1, 2, 3, 4, 5, 6, 7, 8, 9, 10]\n",
    "\n",
    "# filter 함수를 사용하여 numbers_list의 각 요소에 under 함수를 적용\n",
    "result = filter(under, numbers_list)\n",
    "\n",
    "print(\"filter 결과: \", result)  # filter 객체의 주소를 출력\n",
    "print(\"filter 결과의 list 형변환: \", list(result))  # filter 결과를 리스트로 변환하여 출력"
   ]
  },
  {
   "cell_type": "markdown",
   "metadata": {},
   "source": [
    "기존 함수를 lambda를 변경해 보았지만 코드가 획기적으로 개선되지는 않았습니다."
   ]
  },
  {
   "cell_type": "markdown",
   "metadata": {},
   "source": [
    "#### 3. 람다 함수의 활용\n",
    "\n",
    "람다 함수는 결과값을 바로 reuturn하기 때문에 이렇게도 사용이 가능합니다."
   ]
  },
  {
   "cell_type": "code",
   "execution_count": 125,
   "metadata": {},
   "outputs": [
    {
     "name": "stdout",
     "output_type": "stream",
     "text": [
      "map 결과:  <map object at 0x000001EF8F73FC10>\n",
      "map 결과의 list 형변환:  [1, 4, 9, 16, 25, 36, 49, 64, 81, 100]\n"
     ]
    }
   ],
   "source": [
    "# 1부터 10까지의 숫자를 포함하는 리스트를 생성\n",
    "numbers_list = [1, 2, 3, 4, 5, 6, 7, 8, 9, 10]\n",
    "\n",
    "# map 함수를 사용하여 numbers_list의 각 요소에 lambda 함수를 적용\n",
    "# lambda 함수는 주어진 숫자를 제곱하여 반환\n",
    "result = map(lambda i: i * i, numbers_list)\n",
    "\n",
    "print(\"map 결과: \", result)  # map 객체의 주소를 출력\n",
    "print(\"map 결과의 list 형변환: \", list(result))  # map 결과를 리스트로 변환하여 "
   ]
  },
  {
   "cell_type": "code",
   "execution_count": 126,
   "metadata": {},
   "outputs": [
    {
     "name": "stdout",
     "output_type": "stream",
     "text": [
      "filter 결과:  <filter object at 0x000001EF8F73F160>\n",
      "filter 결과의 list 형변환:  [1, 2, 3, 4]\n"
     ]
    }
   ],
   "source": [
    "# 1부터 10까지의 숫자를 포함하는 리스트를 생성\n",
    "numbers_list = [1, 2, 3, 4, 5, 6, 7, 8, 9, 10]\n",
    "\n",
    "# filter 함수를 사용하여 numbers_list의 각 요소에 lambda 함수를 적용\n",
    "# lambda 함수는 주어진 숫자가 5보다 작은지 여부를 반환\n",
    "result = filter(lambda i: i < 5, numbers_list)\n",
    "\n",
    "print(\"filter 결과: \", result)  # filter 객체의 주소를 출력\n",
    "print(\"filter 결과의 list 형변환: \", list(result))  # filter 결과를 리스트로 변환하여 출력"
   ]
  },
  {
   "cell_type": "markdown",
   "metadata": {},
   "source": [
    "filter(), map() 함수에 매개변수로 함수가 들어갔다는걸 확인하기에도 편하고 코드도 간결해졌습니다."
   ]
  },
  {
   "cell_type": "markdown",
   "metadata": {},
   "source": [
    "이해도 체크리스트"
   ]
  },
  {
   "cell_type": "markdown",
   "metadata": {},
   "source": [
    "1. map(), filter() 함수의 기능에 대해 설명해주세요."
   ]
  },
  {
   "cell_type": "markdown",
   "metadata": {},
   "source": [
    "정답 :  \n",
    "    map() 함수는 시퀀스(리스트, 튜플 등)의 각 요소에 대해 지정된 함수를 적용한 결과를 새로운 시퀀스로 반환합니다. 간단히 말해, 모든 요소에 대해 함수를 실행하고 그 결과를 반환합니다.  \n",
    "    filter() 함수는 시퀀스의 각 요소에 대해 지정된 함수를 적용하고, 함수의 반환 값이 True인 요소들만을 포함하는 새로운 시퀀스를 반환합니다."
   ]
  },
  {
   "cell_type": "markdown",
   "metadata": {},
   "source": [
    "2. lambda를 사용하는 이유에 대해 설명해주세요."
   ]
  },
  {
   "cell_type": "markdown",
   "metadata": {},
   "source": [
    "정답 : \n",
    "1. **간결한 코드 작성:** lambda 함수는 간결한 구문으로 작은 익명 함수를 작성할 수 있어 코드가 짧아지고, 읽기 쉬워집니다.\n",
    "2. **익명 함수:** lambda 함수를 사용하면 함수를 정의할 때 이름을 지정하지 않아도 됩니다. 이는 일회성으로 사용되는 함수에 유용합니다.\n",
    "3. **함수형 프로그래밍:** 함수형 프로그래밍 패러다임을 따르는 파이썬의 여러 내장 함수(map(), filter(), sorted() 등)에서 콜백 함수를 간편하게 사용할 수 있습니다.\n",
    "4. **가독성 향상:** 코드의 의도를 명확하게 표현할 수 있으며, 특히 간단한 연산을 수행하는 함수를 정의할 때 유용합니다."
   ]
  },
  {
   "cell_type": "markdown",
   "metadata": {},
   "source": [
    "3. lambda를 이용해 함수를 만드는 방법에 대해 설명해주세요."
   ]
  },
  {
   "cell_type": "markdown",
   "metadata": {},
   "source": [
    "정답 :  \n",
    "- 구문: lambda 매개변수: 반환값  \n",
    "- 설명: lambda 함수는 lambda 키워드를 사용하여 정의하며, 함수 이름을 지정하지 않습니다. 매개변수와 반환값을 콜론으로 구분하여 작성합니다."
   ]
  },
  {
   "cell_type": "markdown",
   "metadata": {},
   "source": [
    "#### 1. 제너레이터  \n",
    "제너레이터는 이터레이터를 생성하는 객체입니다.  \n",
    "- 이터레이터 : 순서대로 다음 값을 리턴할 수 있는 객체로 자체적으로 내장하고 있는 next 메소드를 통해 다음 값을 가져올 수 있습니다.  \n",
    "제너레이터는 함수 안에 yield 키워드를 사용해 만들 수 있습니다.  \n",
    "특이하게 함수 안에 yield라는 키워드가 어떤 동작을 하든 하지 않든 있기만 해도 제너레이터로 인식됩니다.  \n",
    "단, 제너레이터 함수가 되면 호출해도 함수 내부의 코드가 작동하지 않습니다.  \n",
    "아래 코드로 확인해 보겠습니다."
   ]
  },
  {
   "cell_type": "code",
   "execution_count": 127,
   "metadata": {},
   "outputs": [
    {
     "name": "stdout",
     "output_type": "stream",
     "text": [
      "첫번째 출력\n",
      "두번째 출력\n",
      "<generator object test at 0x000001EF8F699A80>\n"
     ]
    }
   ],
   "source": [
    "def test():\n",
    "    \"\"\"\n",
    "    test 함수는 제너레이터를 사용하여 문자열 \"test\"를 생성합니다.\n",
    "\n",
    "    반환 값:\n",
    "    - generator: 문자열 \"test\"를 생성하는 제너레이터 객체\n",
    "    \"\"\"\n",
    "    print(\"제너레이터 실습 코드입니다.\")  # 제너레이터 함수가 호출될 때 출력\n",
    "    yield \"test\"  # \"test\" 문자열을 생성하고 함수의 실행을 일시 중지\n",
    "\n",
    "# 첫 번째 출력 시도\n",
    "print(\"첫번째 출력\")\n",
    "test()  # test 함수를 호출하지만 제너레이터 객체를 사용하지 않음\n",
    "\n",
    "# 두 번째 출력 시도\n",
    "print(\"두번째 출력\")\n",
    "test()  # test 함수를 호출하지만 제너레이터 객체를 사용하지 않음\n",
    "\n",
    "# 제너레이터 객체를 출력\n",
    "print(test())  # 제너레이터 객체를 생성하고 이를 출력"
   ]
  },
  {
   "cell_type": "markdown",
   "metadata": {},
   "source": [
    "기존대로라면 test() 함수를 호출하면 \"제너레이터 실습 코드입니다\"가 출력되어야 하나, 출력되지 않았습니다.  \n",
    "test() 함수 안에 yield 키워드가 있어서 제너레이터 함수가 되었고, 그로 인해 함수를 호출해도 함수 내부의 코드가 실행되지 않는 것입니다.  \n",
    "그러나 print()문으로 test() 함수를 출력해보면 제너레이터로 출력됩니다."
   ]
  },
  {
   "cell_type": "markdown",
   "metadata": {},
   "source": [
    "#### 2. 제너레이터의 실행\n",
    "\n",
    "제너레이터는 어떻게 실행할 수 있을까요?  \n",
    "제너레이터 객체는 next() 함수를 사용해 함수 내부의 코드를 실행할 수 있습니다.  \n",
    "next() 함수를 실행하면 yield 키워드 부분까지만 실행됩니다. 다시 한번 코드를 통해 이 부분을 확인해 보겠습니다."
   ]
  },
  {
   "cell_type": "code",
   "execution_count": 128,
   "metadata": {},
   "outputs": [
    {
     "name": "stdout",
     "output_type": "stream",
     "text": [
      "네번째 출력\n",
      "첫번째 출력\n",
      "1\n",
      "다섯번째 출력\n",
      "두번째 출력\n",
      "2\n",
      "여섯번째 출력\n",
      "세번째 출력\n"
     ]
    },
    {
     "ename": "StopIteration",
     "evalue": "",
     "output_type": "error",
     "traceback": [
      "\u001b[1;31m---------------------------------------------------------------------------\u001b[0m",
      "\u001b[1;31mStopIteration\u001b[0m                             Traceback (most recent call last)",
      "Cell \u001b[1;32mIn[128], line 29\u001b[0m\n\u001b[0;32m     26\u001b[0m \u001b[38;5;28mprint\u001b[39m(\u001b[38;5;124m\"\u001b[39m\u001b[38;5;124m여섯번째 출력\u001b[39m\u001b[38;5;124m\"\u001b[39m)  \u001b[38;5;66;03m# 여섯 번째 출력 메시지\u001b[39;00m\n\u001b[0;32m     28\u001b[0m \u001b[38;5;66;03m# 제너레이터의 세 번째 값을 가져오려고 시도 (하지만 더 이상 생성할 값이 없음)\u001b[39;00m\n\u001b[1;32m---> 29\u001b[0m z \u001b[38;5;241m=\u001b[39m \u001b[38;5;28;43mnext\u001b[39;49m\u001b[43m(\u001b[49m\u001b[43moutput\u001b[49m\u001b[43m)\u001b[49m  \u001b[38;5;66;03m# StopIteration 예외가 발생합니다.\u001b[39;00m\n\u001b[0;32m     30\u001b[0m \u001b[38;5;28mprint\u001b[39m(z)\n",
      "\u001b[1;31mStopIteration\u001b[0m: "
     ]
    }
   ],
   "source": [
    "def test():\n",
    "    \"\"\"\n",
    "    test 함수는 여러 개의 값을 생성하는 제너레이터입니다.\n",
    "\n",
    "    반환 값:\n",
    "    - generator: 1, 2를 순차적으로 생성하는 제너레이터 객체\n",
    "    \"\"\"\n",
    "    print(\"첫번째 출력\")  # 첫 번째 메시지를 출력\n",
    "    yield 1  # 1을 생성하고 함수의 실행을 일시 중지\n",
    "    print(\"두번째 출력\")  # 두 번째 메시지를 출력\n",
    "    yield 2  # 2를 생성하고 함수의 실행을 일시 중지\n",
    "    print(\"세번째 출력\")  # 세 번째 메시지를 출력 (마지막 메시지, 이후에는 더 이상 생성할 값이 없음)\n",
    "\n",
    "# test 함수 호출하여 제너레이터 객체를 생성\n",
    "output = test()\n",
    "print(\"네번째 출력\")  # 제너레이터 객체 생성 후 출력\n",
    "\n",
    "# 제너레이터의 첫 번째 값을 가져옴\n",
    "x = next(output)\n",
    "print(x)  # 1 출력\n",
    "print(\"다섯번째 출력\")  # 다섯 번째 출력 메시지\n",
    "\n",
    "# 제너레이터의 두 번째 값을 가져옴\n",
    "y = next(output)\n",
    "print(y)  # 2 출력\n",
    "print(\"여섯번째 출력\")  # 여섯 번째 출력 메시지\n",
    "\n",
    "# 제너레이터의 세 번째 값을 가져오려고 시도 (하지만 더 이상 생성할 값이 없음)\n",
    "z = next(output)  # StopIteration 예외가 발생합니다.\n",
    "print(z)"
   ]
  },
  {
   "cell_type": "markdown",
   "metadata": {},
   "source": [
    "위의 코드 실행 결과를 보면, next() 함수를 만나면 yield 키워드를 만날 때까지 실행됩니다.  \n",
    "첫 번째 yield 1을 만나기 전까지 \"첫 번째 출력\"이라는 print 문이 작동하고, yield의 값 1이 반환됩니다.  \n",
    "이후 세 번째 next(output)이 실행되는데, test() 함수 안에 yield가 2개밖에 없기 때문에 세 번째 실행 시 StopIteration이라는 예외가 발생합니다."
   ]
  },
  {
   "cell_type": "markdown",
   "metadata": {},
   "source": [
    "#### 3. 제너레이터의 사용\n",
    "\n",
    "제일 궁금한 점은 제너레이터는 언제 사용하는가입니다.  \n",
    "위 사용 방법처럼 조금씩 실행해야 되는 상황에서 자주 사용됩니다.  \n",
    "조금씩 실행시키게 되면 함수 전체를 실행하지 않아도 되기 때문에 메모리를 효율적으로 사용할 수 있습니다."
   ]
  },
  {
   "cell_type": "markdown",
   "metadata": {},
   "source": [
    "이해도 체크리스트"
   ]
  },
  {
   "cell_type": "markdown",
   "metadata": {},
   "source": [
    "1. 이터레이터와 제너레이터에 대해 설명해주세요."
   ]
  },
  {
   "cell_type": "markdown",
   "metadata": {},
   "source": [
    "\n",
    "정답 :  \n",
    "- 이터레이터 : 반복 가능한 객체를 순회할 수 있는 객체. 리스트나 튜플같은 자료형응ㄹ 이터레이터로 변환하면 한번에 한 요소씩 접근할수있음\n",
    "- 제너레이터 : 이터레이터를 생성하는 함수. yield 키워드를 사용하여 값을 반환. 값을 하나씩 생성하고 필요할때마다 실행을 중단하고 현재 상태를 기억"
   ]
  },
  {
   "cell_type": "markdown",
   "metadata": {},
   "source": [
    "2. 제너레이터 함수를 만드는 방법에 대해 설명해주세요."
   ]
  },
  {
   "cell_type": "markdown",
   "metadata": {},
   "source": [
    "정답 :  \n",
    "- 일반 함수처럼 def로 정의하며 내부에 yield 키워드를 사용하여 값을 반환.  \n",
    "- return 키워드와 달리 yield는 함수의 상태를 일시 중지하고 값을 반환"
   ]
  },
  {
   "cell_type": "markdown",
   "metadata": {},
   "source": [
    "3. 제너레이터 함수를 실행하는 방법에 대해 설명해주세요."
   ]
  },
  {
   "cell_type": "markdown",
   "metadata": {},
   "source": [
    "정답 :  \n",
    "- 제네레이터 함수 정의하고 제네레이터 함수를 호출하고 next() 함수를 사용하여 값을 꺼낼수있음"
   ]
  },
  {
   "cell_type": "markdown",
   "metadata": {},
   "source": [
    "#### 1. 파이썬의 동적 프로그래밍\n",
    "\n",
    "동적 프로그래밍 언어인 파이썬에는 인터프리터(interpreter)가 코드를 실행하면서 타입(type)을 추론합니다.  \n",
    "그리고 파이썬은 변수의 타입(type)이 고정되어 있지 않기 때문에 개발자가 원하면 언제든지 변경할 수 있습니다."
   ]
  },
  {
   "cell_type": "code",
   "execution_count": 130,
   "metadata": {},
   "outputs": [
    {
     "name": "stdout",
     "output_type": "stream",
     "text": [
      "<class 'int'>\n",
      "<class 'str'>\n"
     ]
    }
   ],
   "source": [
    "num = 10\n",
    "print(type(num))\n",
    "\n",
    "num = \"10\"\n",
    "print(type(num))"
   ]
  },
  {
   "cell_type": "markdown",
   "metadata": {},
   "source": [
    "위 코드를 보면 num 변수의 타입이 숫자 10을 넣었을 때는 int였다가 문자 \"10\"을 넣으니 str로 바뀐 것을 확인할 수 있습니다.  \n",
    "자바와 같은 정적(static) 프로그래밍 언어에서는 상상도 하기 힘든 일입니다. 이 코드를 컴파일해서 실행했다면 에러가 발생했을 겁니다.  \n",
    "이렇게 유연한 파이썬의 타입 처리는 다른 언어 대비 간단 명료한 코드를 작성하는 데 최적화되어 있습니다.  \n",
    "유연한 파이썬의 타입 처리는 일회성 스크립트나 소규모 개발 프로젝트를 빠르게 진행하기에 매력적인 언어입니다.  \n",
    "하지만 프로젝트의 규모가 커지면 이러한 파이썬의 다이나믹함이 치명적인 버그로 이어질 확률이 높아지고, 결국에는 안정성에 영향을 줄 수밖에 없습니다.  \n",
    "그래서 규모가 어느 정도 커진 프로젝트에서는 타입 힌팅(type hinting)이라는 개발 프로세스를 도입해 사용하기도 합니다.  \n",
    "참고로, 동적 프로그래밍 언어로 파이썬과 비슷한 문제를 갖고 있는 자바스크립트는 TypeScript라는 프로그래밍 언어로 이러한 문제를 해결하고 있습니다.  \n",
    "타입 힌팅은 파이썬 코드를 작성할 때 타입에 대한 메타 정보를 제공하는 개념이라고 생각하시면 됩니다. \n",
    "이전에는 주석을 통해 타입에 대한 정보를 제공하는 경우도 있었으나, 일반적으로 작성하는 주석까지 더해져 시인성이 많이 떨어지는 단점이 있었습니다."
   ]
  },
  {
   "cell_type": "markdown",
   "metadata": {},
   "source": [
    "#### 2. 타입 힌팅"
   ]
  },
  {
   "cell_type": "code",
   "execution_count": 131,
   "metadata": {},
   "outputs": [
    {
     "data": {
      "text/plain": [
       "1000"
      ]
     },
     "execution_count": 131,
     "metadata": {},
     "output_type": "execute_result"
    }
   ],
   "source": [
    "# 직육면체의 부피를 구하는 함수\n",
    "def oz(x, y, h):\n",
    "\t#type:(int, int, int) -> int\n",
    "\treturn x * y * h\n",
    "\t\n",
    "oz(10, 10, 10)"
   ]
  },
  {
   "cell_type": "markdown",
   "metadata": {},
   "source": [
    "#### 3. 타입 어노테이션"
   ]
  },
  {
   "cell_type": "markdown",
   "metadata": {},
   "source": [
    "반면에 타입 힌팅에서는 타입 어노테이션이라는 새로운 방법으로 파이썬 코드의 타입 표시를 표준화할 수 있습니다.  \n",
    "타입 표시가 표준화되면서 코드 편집기에서도 해석이 가능하고, 코드 자동 완성이나 정적 타입 체킹에도 사용할 수 있게 되었습니다.  \n",
    "주석으로 타입 정보를 제공했던 코드를 타입 어노테이션으로 변경해보겠습니다."
   ]
  },
  {
   "cell_type": "code",
   "execution_count": 132,
   "metadata": {},
   "outputs": [
    {
     "data": {
      "text/plain": [
       "1000"
      ]
     },
     "execution_count": 132,
     "metadata": {},
     "output_type": "execute_result"
    }
   ],
   "source": [
    "# 직육면체의 부피를 구하는 함수\n",
    "def oz(x: int, y: int, h: int) -> int:\n",
    "\treturn x * y * h\n",
    "\t\n",
    "oz(10, 10, 10)"
   ]
  },
  {
   "cell_type": "markdown",
   "metadata": {},
   "source": [
    "여기서 오해할 수 있는 부분이 있습니다.  \n",
    "타입 힌팅은 어떠한 제약 사항을 만들거나 강요하지 않습니다.  \n",
    "다시 말해 우리가 입력한 타입 어노테이션이 잘못된 내용이어도 어떤 오류나 경고가 발생하지 않습니다.  \n",
    "타입 힌팅은 다른 개발자와의 협업 시 읽기 수월하도록 도와주는 도구라고 생각하시면 됩니다."
   ]
  },
  {
   "cell_type": "markdown",
   "metadata": {},
   "source": [
    "#### 4. 변수 타입 어노테이션\n",
    "\n",
    "변수 이름 뒤에 콜론을 붙이고 타입을 명시해줍니다."
   ]
  },
  {
   "cell_type": "code",
   "execution_count": 135,
   "metadata": {},
   "outputs": [
    {
     "name": "stdout",
     "output_type": "stream",
     "text": [
      "hunt\n"
     ]
    }
   ],
   "source": [
    "# 3.9버전과 3.9미만 버전의 타입 어노테이션 표현 방식이 차이가 있습니다.\n",
    "# 현재 코드는 3.9이상 버전의 방식으로 작성되었습니다.\n",
    "# 변수 타입 어노테이션 사용법\n",
    "\n",
    "# my_dog 변수는 강아지의 종류를 나타내며 문자열 타입으로 \"hunt\"로 초기화됩니다.\n",
    "my_dog: str = \"hunt\"\n",
    "\n",
    "# my_dog_age 변수는 강아지의 나이를 나타내며 정수 타입으로 7로 초기화됩니다.\n",
    "my_dog_age: int = 7\n",
    "\n",
    "# dogs 리스트는 여러 종류의 강아지 이름을 포함하고 있으며, 각 항목은 문자열 타입입니다.\n",
    "dogs: list[str] = [\"닥스훈트\", \"시바견\", \"웰시코기\", \"이탈리안그레이하운드\"]\n",
    "\n",
    "# dogs 딕셔너리는 강아지의 종류를 키로, 나이를 값으로 가지는 딕셔너리이며, 키는 문자열 타입이고 값은 정수 타입입니다.\n",
    "dogs: dict[str, int] = {\n",
    "    \"닥스훈트\": 7,\n",
    "    \"시바견\": 5,\n",
    "    \"웰시코기\": 6,\n",
    "    \"이탈리안그레이하운드\": 3,\n",
    "}\n",
    "\n",
    "# my_dog 변수의 값을 출력합니다.\n",
    "print(my_dog)"
   ]
  },
  {
   "cell_type": "markdown",
   "metadata": {},
   "source": [
    "#### 5. 함수 타입 어노테이션\n",
    "\n",
    "함수에 타입 힌팅을 적용할 때는 인자 타입과 반환 타입 두 곳에 추가할 수 있습니다.  \n",
    "인자에 타입 어노테이션을 추가할 때는 변수와 동일한 문법을 사용하며, 반환값에 대한 타입을 추가할 때는 화살표를 사용합니다."
   ]
  },
  {
   "cell_type": "code",
   "execution_count": 136,
   "metadata": {},
   "outputs": [],
   "source": [
    "def hunt(name: str) -> str:\n",
    "\treturn name[0]\n",
    "\n",
    "def hunt_info(name: str, age: int = 7) -> str:\n",
    "\treturn name + str\n",
    "\n",
    "def hunt_happy_time(name: str) -> None:\n",
    "\tprint(\"간식줄게\" + name)\n",
    "\t\n",
    "def hunt_bow(message: str, time: int = 10) -> list[str]:\n",
    "\treturn [message] * times"
   ]
  },
  {
   "cell_type": "markdown",
   "metadata": {},
   "source": [
    "타입 힌팅 프로세스는 팀원 간의 합의가 필요하며, 합의 이후에도 많은 대화가 필요하기 때문에 프로젝트에 무조건 도입하기보다는 점진적으로 도입할 수 있도록 준비하는 것이 가장 중요합니다."
   ]
  }
 ],
 "metadata": {
  "kernelspec": {
   "display_name": "Python 3",
   "language": "python",
   "name": "python3"
  },
  "language_info": {
   "codemirror_mode": {
    "name": "ipython",
    "version": 3
   },
   "file_extension": ".py",
   "mimetype": "text/x-python",
   "name": "python",
   "nbconvert_exporter": "python",
   "pygments_lexer": "ipython3",
   "version": "3.11.9"
  }
 },
 "nbformat": 4,
 "nbformat_minor": 2
}
